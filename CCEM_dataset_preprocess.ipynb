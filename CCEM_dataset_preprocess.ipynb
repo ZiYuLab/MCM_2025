{
 "cells": [
  {
   "cell_type": "code",
   "execution_count": 1,
   "id": "initial_id",
   "metadata": {
    "collapsed": true,
    "jupyter": {
     "is_executing": true
    }
   },
   "outputs": [],
   "source": [
    "import pandas as pd\n",
    "import numpy as np\n",
    "from tqdm import *"
   ]
  },
  {
   "cell_type": "code",
   "execution_count": 2,
   "id": "18b72cb551d2569e",
   "metadata": {
    "ExecuteTime": {
     "end_time": "2025-01-27T03:30:41.886502Z",
     "start_time": "2025-01-27T03:30:41.664719Z"
    }
   },
   "outputs": [],
   "source": [
    "data_coach = pd.read_csv(\"data/coaches.csv\")\n",
    "data_athletes = pd.read_csv(\"data/athletes.csv\")\n",
    "data_programs = pd.read_csv(\"data/programs.csv\")\n",
    "years_index = range(1896, 2025, 4)\n",
    "programs_index = pd.read_csv('data/programs_index.csv')['program_id'].tolist()"
   ]
  },
  {
   "cell_type": "code",
   "execution_count": 3,
   "id": "47216d30",
   "metadata": {},
   "outputs": [],
   "source": [
    "years_befor_start = 2 * 4\n",
    "years_after_end = 2 * 4\n",
    "coath_time_loss = 0.2"
   ]
  },
  {
   "cell_type": "code",
   "execution_count": 4,
   "id": "a93aa9c1",
   "metadata": {},
   "outputs": [],
   "source": [
    "def make_dataset(noc, team_now, team_sum, sex=\"A\"):\n",
    "\n",
    "    tmp_athletes = data_athletes[data_athletes[\"NOC\"] == noc]\n",
    "    result_df = pd.DataFrame()\n",
    "    if tmp_athletes.shape[0] == 0:\n",
    "        return result_df\n",
    "    \n",
    "    num_participate = 0\n",
    "\n",
    "    # each year\n",
    "    tqdm_bar = tqdm(years_index)\n",
    "\n",
    "    for year in tqdm_bar:\n",
    "        tmp_one_year = tmp_athletes[tmp_athletes[\"Year\"] == year]\n",
    "        \n",
    "        if tmp_one_year.shape[0] == 0:\n",
    "            continue\n",
    "        \n",
    "        host = tmp_one_year[\"Host\"].iloc[0]\n",
    "\n",
    "        tmp_df = pd.DataFrame()\n",
    "        tmp_df[\"Year\"] = [year]\n",
    "        tmp_df[\"NOC\"] = [noc]\n",
    "        tmp_df[\"Host\"] = [host]\n",
    "\n",
    "        # each program\n",
    "        for program in programs_index:\n",
    "            tmp_one_year_program = tmp_one_year[tmp_one_year[\"Sport\"] == program]\n",
    "            if tmp_one_year_program.shape[0] == 0:\n",
    "                tmp_df[program] = [0]\n",
    "                continue\n",
    "            tmp_one_year_program_athletes = list(set(tmp_one_year_program[\"Name\"].tolist()))\n",
    "            \n",
    "            team_score_in_program = 0\n",
    "            athletes_num_in_program = 0\n",
    "\n",
    "            for each_athletes in tmp_one_year_program_athletes:\n",
    "                \n",
    "                if sex != \"A\":\n",
    "                    tmp_athletes_record = tmp_athletes[(tmp_athletes[\"Name\"] == each_athletes) & (tmp_athletes[\"Year\"] < year) & (tmp_athletes[\"Sex\"] == sex)]\n",
    "                else:\n",
    "                    tmp_athletes_record = tmp_athletes[(tmp_athletes[\"Name\"] == each_athletes) & (tmp_athletes[\"Year\"] < year)]\n",
    "\n",
    "                if tmp_athletes_record.shape[0] == 0:\n",
    "                    athletes_num_in_program += 1\n",
    "                    continue\n",
    "                else:\n",
    "                    participate_year_list = (list(set(tmp_athletes_record[\"Year\"])))\n",
    "                    tmp_athletes_score = 0\n",
    "                    for each_year in participate_year_list:\n",
    "                        tmp_athletes_score += tmp_athletes_record[tmp_athletes_record[\"Year\"] == each_year][\"Medal\"].mean()\n",
    "\n",
    "                    team_score_in_program += tmp_athletes_score / len(participate_year_list)\n",
    "                    athletes_num_in_program += 1\n",
    "\n",
    "            all_program_event = (data_programs[data_programs[\"Code\"] == program])[str(year)].iloc[0]\n",
    "            tmp_df[program] = [team_score_in_program]\n",
    "\n",
    "        result_df = pd.concat([result_df, tmp_df], ignore_index=True)\n",
    "\n",
    "        if result_df.shape[0] == 0:\n",
    "            return result_df\n",
    "\n",
    "        tqdm_bar.set_description('Team [{}/{}], NOC: {}, Year: {}, Usable:{} '.format(team_now, team_sum, noc, year, result_df.shape[0]))\n",
    "\n",
    "\n",
    "    result_df.fillna(0, inplace=True)\n",
    "    return result_df"
   ]
  },
  {
   "cell_type": "code",
   "execution_count": 5,
   "id": "2bf3f24a58aa56a6",
   "metadata": {
    "ExecuteTime": {
     "end_time": "2025-01-27T03:31:14.223790Z",
     "start_time": "2025-01-27T03:31:14.220288Z"
    }
   },
   "outputs": [],
   "source": [
    "def make_dataset_for_one_coach(noc, team_num, team_sum, program, start_year, end_year, team_sex=\"A\"):\n",
    "    data_set_aoc_df = make_dataset(noc, team_num, team_sum, team_sex)\n",
    "    data_set_one_program = data_set_aoc_df[[\"NOC\", \"Year\", \"Host\", program]].copy()\n",
    "    for each in data_set_one_program.index:\n",
    "        year = data_set_one_program.loc[each, \"Year\"]\n",
    "        data_set_one_program.loc[each, \"Coach\"] = 1 if year >= start_year and year <= end_year else ((1 - coath_time_loss * (year - end_year) / 4) if year > end_year else 0)\n",
    "        if team_sex != \"A\":\n",
    "            data_set_one_program.loc[each, \"Medal_score\"] = data_athletes[(data_athletes[\"NOC\"] == noc) & (data_athletes[\"Sex\"] == team_sex) & (data_athletes[\"Sport\"] == program) & (data_athletes[\"Year\"] == year)][\"Medal\"].mean() \n",
    "        else:\n",
    "            data_set_one_program.loc[each, \"Medal_score\"] = data_athletes[(data_athletes[\"NOC\"] == noc) & (data_athletes[\"Sport\"] == program) & (data_athletes[\"Year\"] == year)][\"Medal\"].mean()\n",
    "\n",
    "    return data_set_one_program.fillna(0)"
   ]
  },
  {
   "cell_type": "code",
   "execution_count": 6,
   "id": "0b030bc4",
   "metadata": {},
   "outputs": [],
   "source": [
    "def make_dataset_for_each_coach():\n",
    "    coach_name_list = []\n",
    "    for i, each in enumerate(data_coach.index):\n",
    "        noc = data_coach.loc[each, \"NOC\"]\n",
    "        program = data_coach.loc[each, \"Program\"]\n",
    "        sex = data_coach.loc[each, \"Sex\"]\n",
    "        data_set_one_coach = make_dataset_for_one_coach(noc, i + 1, len(data_coach.index), program, data_coach.loc[each, \"Start\"], data_coach.loc[each, \"End\"])\n",
    "        data_set_one_coach = data_set_one_coach[(data_set_one_coach[\"Year\"] >= data_coach.loc[each, \"Start\"] - years_befor_start) & (data_set_one_coach[\"Year\"] <= data_coach.loc[each, \"End\"] + years_after_end)]\n",
    "        coach_file_name = str(i) + \"_\" + data_coach.loc[each, \"Name\"].replace(\" \", \"_\")\n",
    "        data_set_one_coach.to_csv(\"data/dataset/coach/\" + coach_file_name + \".csv\", index=False)        \n",
    "        coach_name_list.append(coach_file_name)\n",
    "    \n",
    "    np.savetxt(\"data/dataset/coach/coach_name_list.txt\", coach_name_list, fmt=\"%s\")\n"
   ]
  },
  {
   "cell_type": "code",
   "execution_count": 7,
   "id": "5f351e4b38c4212b",
   "metadata": {
    "ExecuteTime": {
     "end_time": "2025-01-27T03:31:42.314198Z",
     "start_time": "2025-01-27T03:31:42.268052Z"
    }
   },
   "outputs": [
    {
     "name": "stderr",
     "output_type": "stream",
     "text": [
      "C:\\Users\\chen1\\AppData\\Local\\Temp\\ipykernel_3672\\137557406.py:4: FutureWarning: Downcasting behavior in `replace` is deprecated and will be removed in a future version. To retain the old behavior, explicitly call `result.infer_objects(copy=False)`. To opt-in to the future behavior, set `pd.set_option('future.no_silent_downcasting', True)`\n",
      "  data_athletes[\"Medal\"] = data_athletes[\"Medal\"].replace(\"No medal\", 0)\n",
      "Team [1/12], NOC: USA, Year: 2024, Usable:17 : 100%|██████████| 33/33 [00:08<00:00,  3.92it/s]\n",
      "Team [2/12], NOC: CHN, Year: 2024, Usable:11 : 100%|██████████| 33/33 [00:02<00:00, 13.29it/s] \n",
      "Team [3/12], NOC: CHN, Year: 2024, Usable:11 : 100%|██████████| 33/33 [00:02<00:00, 13.71it/s] \n",
      "Team [4/12], NOC: USA, Year: 2024, Usable:17 : 100%|██████████| 33/33 [00:07<00:00,  4.22it/s]\n",
      "Team [5/12], NOC: CHN, Year: 2024, Usable:11 : 100%|██████████| 33/33 [00:02<00:00, 13.14it/s] \n",
      "Team [6/12], NOC: CRC, Year: 2024, Usable:14 : 100%|██████████| 33/33 [00:00<00:00, 87.30it/s] \n",
      "Team [7/12], NOC: CHN, Year: 2024, Usable:11 : 100%|██████████| 33/33 [00:02<00:00, 13.48it/s] \n",
      "Team [8/12], NOC: JPN, Year: 2024, Usable:17 : 100%|██████████| 33/33 [00:03<00:00,  9.48it/s]\n",
      "Team [9/12], NOC: GER, Year: 2024, Usable:17 : 100%|██████████| 33/33 [00:06<00:00,  4.96it/s]\n",
      "Team [10/12], NOC: BEL, Year: 2024, Usable:17 : 100%|██████████| 33/33 [00:01<00:00, 30.87it/s] \n",
      "Team [11/12], NOC: USA, Year: 2024, Usable:17 : 100%|██████████| 33/33 [00:07<00:00,  4.22it/s]\n",
      "Team [12/12], NOC: CAN, Year: 2024, Usable:17 : 100%|██████████| 33/33 [00:03<00:00, 10.62it/s]\n"
     ]
    }
   ],
   "source": [
    "data_athletes[\"Medal\"] = data_athletes[\"Medal\"].replace(\"Gold\", 3)\n",
    "data_athletes[\"Medal\"] = data_athletes[\"Medal\"].replace(\"Silver\", 2)\n",
    "data_athletes[\"Medal\"] = data_athletes[\"Medal\"].replace(\"Bronze\", 1)\n",
    "data_athletes[\"Medal\"] = data_athletes[\"Medal\"].replace(\"No medal\", 0)\n",
    "\n",
    "# make_dataset_for_one_coach(\"CHN\", \"VVO\", 1996, 1996, \"F\")\n",
    "make_dataset_for_each_coach() \n"
   ]
  },
  {
   "cell_type": "code",
   "execution_count": null,
   "id": "5bf828138b1a095c",
   "metadata": {},
   "outputs": [],
   "source": []
  },
  {
   "cell_type": "code",
   "execution_count": null,
   "id": "07507cf1",
   "metadata": {},
   "outputs": [],
   "source": []
  }
 ],
 "metadata": {
  "kernelspec": {
   "display_name": "base",
   "language": "python",
   "name": "python3"
  },
  "language_info": {
   "codemirror_mode": {
    "name": "ipython",
    "version": 3
   },
   "file_extension": ".py",
   "mimetype": "text/x-python",
   "name": "python",
   "nbconvert_exporter": "python",
   "pygments_lexer": "ipython3",
   "version": "3.12.7"
  }
 },
 "nbformat": 4,
 "nbformat_minor": 5
}
