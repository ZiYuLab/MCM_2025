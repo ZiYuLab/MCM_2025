{
 "cells": [
  {
   "cell_type": "code",
   "id": "initial_id",
   "metadata": {
    "collapsed": true,
    "ExecuteTime": {
     "end_time": "2025-01-26T08:53:12.065026Z",
     "start_time": "2025-01-26T08:53:11.895736Z"
    }
   },
   "source": [
    "import pandas as pd\n",
    "from sqlalchemy import false\n",
    "from tqdm import *\n",
    "import matplotlib.pyplot as plt\n",
    "from sklearn.preprocessing import StandardScaler\n",
    "# from\n",
    "from sklearn.ensemble import RandomForestRegressor\n",
    "from sklearn.preprocessing import MinMaxScaler\n",
    "from sklearn.model_selection import cross_val_score\n",
    "from sklearn.metrics import mean_squared_error\n",
    "import math"
   ],
   "outputs": [],
   "execution_count": 369
  },
  {
   "metadata": {
    "ExecuteTime": {
     "end_time": "2025-01-26T07:16:35.967183Z",
     "start_time": "2025-01-26T07:16:35.959700Z"
    }
   },
   "cell_type": "code",
   "source": [
    "team_df = pd.read_csv(\"data/team_index.csv\")\n",
    "programs_index = pd.read_csv('data/programs_index.csv')['program_id'].tolist()"
   ],
   "id": "ae7386e83656bdcf",
   "outputs": [],
   "execution_count": 324
  },
  {
   "metadata": {
    "ExecuteTime": {
     "end_time": "2025-01-26T07:16:36.324511Z",
     "start_time": "2025-01-26T07:16:36.320646Z"
    }
   },
   "cell_type": "code",
   "source": [
    "team_no_data = []\n",
    "number_each_medal = 329"
   ],
   "id": "b0cd7bda6ca6766b",
   "outputs": [],
   "execution_count": 325
  },
  {
   "metadata": {
    "ExecuteTime": {
     "end_time": "2025-01-26T09:16:24.921576Z",
     "start_time": "2025-01-26T09:16:24.913826Z"
    }
   },
   "cell_type": "code",
   "source": [
    "def train_one(dataset, cross_val=False, cross_val_cv=5):\n",
    "    X = dataset.drop([\"Year\", \"NOC\", \"Gold_rate\", \"Silver_rate\", \"Bronze_rate\"], axis=1)\n",
    "    Y = dataset[['Gold_rate', 'Silver_rate', 'Bronze_rate']]\n",
    "    y_g = Y['Gold_rate']\n",
    "    y_s = Y['Silver_rate']\n",
    "    y_b = Y['Bronze_rate']\n",
    "    # print(X, y_g)\n",
    "    g = RandomForestRegressor()\n",
    "    s = RandomForestRegressor()\n",
    "    b = RandomForestRegressor()\n",
    "    g.fit(X, y_g)\n",
    "    s.fit(X, y_s)\n",
    "    b.fit(X, y_b)\n",
    "    if cross_val:\n",
    "        if cross_val_cv == -1:\n",
    "            cross_val_cv = dataset.shape[0]\n",
    "            # print(\"Cross validation cv is set to \", cross_val_cv)\n",
    "        g_score = cross_val_score(g, X, y_g, cv=cross_val_cv, scoring='neg_mean_squared_error')\n",
    "        s_score = cross_val_score(s, X, y_s, cv=cross_val_cv, scoring='neg_mean_squared_error')\n",
    "        b_score = cross_val_score(b, X, y_b, cv=cross_val_cv, scoring='neg_mean_squared_error')\n",
    "        return g, s, b, g_score.mean(), s_score.mean(), b_score.mean()\n",
    "\n",
    "    return g, s, b"
   ],
   "id": "812ca9d1ef21df81",
   "outputs": [],
   "execution_count": 399
  },
  {
   "metadata": {
    "ExecuteTime": {
     "end_time": "2025-01-26T09:15:02.727497Z",
     "start_time": "2025-01-26T09:15:02.721497Z"
    }
   },
   "cell_type": "code",
   "source": [
    "def predict_one(data_set, model_g, model_s, model_b):\n",
    "    X = data_set.drop([\"Year\", \"NOC\"], axis=1)\n",
    "    y_g_pred = model_g.predict(X)\n",
    "    y_s_pred = model_s.predict(X)\n",
    "    y_b_pred = model_b.predict(X)\n",
    "    df = pd.DataFrame()\n",
    "    df[\"NOC\"] = [data_set[\"NOC\"].iloc[0]]\n",
    "    df[\"Gold_rate\"] = y_g_pred\n",
    "    df[\"Silver_rate\"] = y_s_pred\n",
    "    df[\"Bronze_rate\"] = y_b_pred\n",
    "    return df"
   ],
   "id": "890408e937426f39",
   "outputs": [],
   "execution_count": 391
  },
  {
   "metadata": {
    "ExecuteTime": {
     "end_time": "2025-01-26T09:15:03.461808Z",
     "start_time": "2025-01-26T09:15:03.454761Z"
    }
   },
   "cell_type": "code",
   "source": [
    "def constraint_func(x):\n",
    "    if x < 0:\n",
    "        return 0\n",
    "    elif x > 1:\n",
    "        return 1\n",
    "    else:\n",
    "        return x\n",
    "\n",
    "def rate_to_medal(rate_df, sum_num):\n",
    "    rate_df[\"Gold_rate\"] = rate_df[\"Gold_rate\"].apply(constraint_func)\n",
    "    rate_df[\"Silver_rate\"] = rate_df[\"Silver_rate\"].apply(constraint_func)\n",
    "    rate_df[\"Bronze_rate\"] = rate_df[\"Bronze_rate\"].apply(constraint_func)\n",
    "    rate_df[\"Gold\"] = (rate_df[\"Gold_rate\"] * sum_num).round()\n",
    "    rate_df[\"Silver\"] = (rate_df[\"Silver_rate\"] * sum_num).round()\n",
    "    rate_df[\"Bronze\"] = (rate_df[\"Bronze_rate\"] * sum_num).round()\n",
    "    rate_df[\"Sum\"] = rate_df[\"Gold\"] + rate_df[\"Silver\"] + rate_df[\"Bronze\"]\n",
    "    return rate_df"
   ],
   "id": "a7754408b65ed9e7",
   "outputs": [],
   "execution_count": 392
  },
  {
   "metadata": {
    "ExecuteTime": {
     "end_time": "2025-01-26T09:15:04.129735Z",
     "start_time": "2025-01-26T09:15:04.126204Z"
    }
   },
   "cell_type": "code",
   "source": [
    "def sort_medal(df):\n",
    "    df = df.sort_values(by=[\"Gold\", \"Sum\"], ascending=False)\n",
    "    #df[\"Rank\"] = range(1, df.shape[0] + 1)\n",
    "    return df"
   ],
   "id": "a94e70be03d86836",
   "outputs": [],
   "execution_count": 393
  },
  {
   "metadata": {},
   "cell_type": "markdown",
   "source": "## 部分1 为每个国家单独建立模型评估，应用于特定国家",
   "id": "acb1efea7503cd90"
  },
  {
   "metadata": {
    "ExecuteTime": {
     "end_time": "2025-01-26T09:15:05.551721Z",
     "start_time": "2025-01-26T09:15:05.545441Z"
    }
   },
   "cell_type": "code",
   "source": [
    "def train_model_each_team(cross_val=False, cross_val_cv=5):\n",
    "    model_list = []\n",
    "    predict_result_df = pd.DataFrame()\n",
    "    team_sum = len(team_df)\n",
    "    team_no_data = []\n",
    "    tqdm_bar = tqdm(range(team_sum))\n",
    "    g_score = 0\n",
    "    s_score = 0\n",
    "    b_score = 0\n",
    "    for i in tqdm_bar:\n",
    "        noc = team_df.iloc[i][\"NOC\"]\n",
    "        try:\n",
    "            df_train = pd.read_csv(\"data/dataset/train/\" + noc + \".csv\")\n",
    "        except FileNotFoundError:\n",
    "            team_no_data.append(noc)\n",
    "            continue\n",
    "        except pd.errors.EmptyDataError:\n",
    "            team_no_data.append(noc)\n",
    "            continue\n",
    "\n",
    "        if cross_val:\n",
    "            model_g, model_s, model_b, tmp_g_score, tmp_s_score, tmp_b_score = train_one(df_train, cross_val=True, cross_val_cv=cross_val_cv)\n",
    "            model_list.append([noc, model_g, model_s, model_b])\n",
    "            g_score += tmp_g_score\n",
    "            s_score += tmp_s_score\n",
    "            b_score += tmp_b_score\n",
    "        else:\n",
    "            model_g, model_s, model_b = train_one(df_train)\n",
    "            model_list.append([noc, model_g, model_s, model_b])\n",
    "\n",
    "        tqdm_bar.set_description('Team [{}/{}], NOC: {} '.format(i+1, team_sum, noc))\n",
    "\n",
    "    if cross_val:\n",
    "        team_finish_num = len(model_list)\n",
    "        g_score /= team_finish_num\n",
    "        s_score /= team_finish_num\n",
    "        b_score /= team_finish_num\n",
    "        print(\"Gold MSE: \", g_score)\n",
    "        print(\"Silver MSE: \", s_score)\n",
    "        print(\"Bronze MSE: \", b_score)\n",
    "\n",
    "    return model_list, team_no_data"
   ],
   "id": "aa3c00e2d82d770f",
   "outputs": [],
   "execution_count": 394
  },
  {
   "metadata": {},
   "cell_type": "markdown",
   "source": "## 部分2 为所有国家建立相同的模型，并对特定国家进行评估",
   "id": "49b626558b50659f"
  },
  {
   "metadata": {
    "ExecuteTime": {
     "end_time": "2025-01-26T09:15:06.745221Z",
     "start_time": "2025-01-26T09:15:06.739424Z"
    }
   },
   "cell_type": "code",
   "source": [
    "def train_model_all_team(cross_val=False, cross_val_cv=5):\n",
    "    df_train_sum = pd.read_csv(\"data/dataset/train/sum_dataset.csv\")\n",
    "    model_g, model_s, model_b = train_one(df_train_sum)\n",
    "    if cross_val:\n",
    "        model_g, model_s, model_b, g_score, s_score, b_score = train_one(df_train_sum, cross_val=True, cross_val_cv=cross_val_cv)\n",
    "        print(\"Gold MSE: \", g_score)\n",
    "        print(\"Silver MSE: \", s_score)\n",
    "        print(\"Bronze MSE: \", b_score)\n",
    "        return [model_g, model_s, model_b, g_score, s_score, b_score]\n",
    "    else:\n",
    "        return [model_g, model_s, model_b]"
   ],
   "id": "1730dba87d22e22b",
   "outputs": [],
   "execution_count": 395
  },
  {
   "metadata": {
    "ExecuteTime": {
     "end_time": "2025-01-26T09:15:07.302989Z",
     "start_time": "2025-01-26T09:15:07.297648Z"
    }
   },
   "cell_type": "code",
   "source": [
    "def predict(model_single_list, model_all):\n",
    "    predict_result_df = pd.DataFrame()\n",
    "    for model_single in model_single_list:\n",
    "        noc = model_single[0]\n",
    "        model_g = model_single[1]\n",
    "        model_s = model_single[2]\n",
    "        model_b = model_single[3]\n",
    "        df_predict = pd.read_csv(\"data/dataset/predict/\" + noc + \".csv\")\n",
    "        tmp_single = predict_one(df_predict, model_g, model_s, model_b)\n",
    "        tmp_all = predict_one(df_predict, model_all[0], model_all[1], model_all[2])\n",
    "        tmp_result = pd.DataFrame()\n",
    "        tmp_result[\"NOC\"] = [noc]\n",
    "        tmp_result[\"Gold_rate\"] = (tmp_single[\"Gold_rate\"] + tmp_all[\"Gold_rate\"]) / 2\n",
    "        tmp_result[\"Silver_rate\"] = (tmp_single[\"Silver_rate\"] + tmp_all[\"Silver_rate\"]) / 2\n",
    "        tmp_result[\"Bronze_rate\"] = (tmp_single[\"Bronze_rate\"] + tmp_all[\"Bronze_rate\"]) / 2\n",
    "        predict_result_df = pd.concat([predict_result_df, tmp_result], ignore_index=True)\n",
    "    return predict_result_df"
   ],
   "id": "5b119a3d58ba2270",
   "outputs": [],
   "execution_count": 396
  },
  {
   "metadata": {},
   "cell_type": "markdown",
   "source": "# 模型训练验证",
   "id": "f5861cd672016d47"
  },
  {
   "metadata": {
    "ExecuteTime": {
     "end_time": "2025-01-26T11:55:26.428439Z",
     "start_time": "2025-01-26T11:54:06.412129Z"
    }
   },
   "cell_type": "code",
   "source": "model_all_list = train_model_all_team(cross_val=True, cross_val_cv=40)",
   "id": "2ab721de89d7930f",
   "outputs": [
    {
     "name": "stdout",
     "output_type": "stream",
     "text": [
      "Gold MSE:  -0.0002588449128203271\n",
      "Silver MSE:  -0.00012394391770041607\n",
      "Bronze MSE:  -0.00010126312560158558\n"
     ]
    }
   ],
   "execution_count": 409
  },
  {
   "metadata": {
    "ExecuteTime": {
     "end_time": "2025-01-26T12:04:54.836416Z",
     "start_time": "2025-01-26T11:55:26.561488Z"
    }
   },
   "cell_type": "code",
   "source": "model_single_list, no_data_list = train_model_each_team(cross_val=True, cross_val_cv=-1) # 对每个队伍单独建立模型",
   "id": "c32e39acc8a9d753",
   "outputs": [
    {
     "name": "stderr",
     "output_type": "stream",
     "text": [
      "Team [206/206], NOC: LES : 100%|██████████| 206/206 [09:28<00:00,  2.76s/it]"
     ]
    },
    {
     "name": "stdout",
     "output_type": "stream",
     "text": [
      "Gold MSE:  -5.360827036610374e-05\n",
      "Silver MSE:  -4.8441736002987295e-05\n",
      "Bronze MSE:  -4.285461989795019e-05\n"
     ]
    },
    {
     "name": "stderr",
     "output_type": "stream",
     "text": [
      "\n"
     ]
    }
   ],
   "execution_count": 410
  },
  {
   "metadata": {},
   "cell_type": "code",
   "outputs": [],
   "execution_count": null,
   "source": "",
   "id": "c37b838a2a529686"
  },
  {
   "metadata": {},
   "cell_type": "markdown",
   "source": "# 模型实际运行",
   "id": "a1e449253de65d2b"
  },
  {
   "metadata": {
    "ExecuteTime": {
     "end_time": "2025-01-26T11:54:06.356754Z",
     "start_time": "2025-01-26T11:53:03.966637Z"
    }
   },
   "cell_type": "code",
   "source": [
    "\n",
    "print(\"Start training single model\")\n",
    "model_single_list, no_data_list = train_model_each_team() # 对每个队伍单独建立模型\n",
    "print(\"Done\")\n",
    "\n",
    "print(\"Start training all_team model\")\n",
    "model_all_list = train_model_all_team()                   # 对所有队伍建立模型\n",
    "print(\"Done\")\n",
    "\n",
    "print(\"Start predicting\")\n",
    "predict_result = predict(model_single_list, model_all_list) # 预测并进行模型结果平均\n",
    "print(\"Done\")"
   ],
   "id": "e58d93163e422da5",
   "outputs": [
    {
     "name": "stdout",
     "output_type": "stream",
     "text": [
      "Start training single model\n"
     ]
    },
    {
     "name": "stderr",
     "output_type": "stream",
     "text": [
      "Team [206/206], NOC: LES : 100%|██████████| 206/206 [00:53<00:00,  3.88it/s]\n"
     ]
    },
    {
     "name": "stdout",
     "output_type": "stream",
     "text": [
      "Done\n",
      "Start training all_team model\n",
      "Done\n",
      "Start predicting\n",
      "Done\n"
     ]
    }
   ],
   "execution_count": 408
  },
  {
   "metadata": {
    "ExecuteTime": {
     "end_time": "2025-01-26T12:23:07.386968Z",
     "start_time": "2025-01-26T12:23:07.362941Z"
    }
   },
   "cell_type": "code",
   "source": [
    "predict_result = rate_to_medal(predict_result, number_each_medal)\n",
    "medal_tops = sort_medal(predict_result)\n",
    "# medal_tops = medal_tops[[\"NOC\", \"Gold\", \"Silver\", \"Bronze\", \"Sum\"]]\n",
    "medal_tops"
   ],
   "id": "e48b866135fbf9fd",
   "outputs": [
    {
     "data": {
      "text/plain": [
       "     NOC  Gold_rate  Silver_rate  Bronze_rate  Gold  Silver  Bronze    Sum\n",
       "25   USA   0.141779     0.123208     0.119498  47.0    41.0    39.0  127.0\n",
       "0    CHN   0.121992     0.078855     0.063548  40.0    26.0    21.0   87.0\n",
       "65   JPN   0.055587     0.036236     0.030806  18.0    12.0    10.0   40.0\n",
       "78   GBR   0.051397     0.064337     0.064783  17.0    21.0    21.0   59.0\n",
       "40   AUS   0.046768     0.052128     0.044479  15.0    17.0    15.0   47.0\n",
       "..   ...        ...          ...          ...   ...     ...     ...    ...\n",
       "198  MHL   0.000007     0.000026     0.000034   0.0     0.0     0.0    0.0\n",
       "199  KIR   0.000007     0.000026     0.000034   0.0     0.0     0.0    0.0\n",
       "200  TUV   0.000007     0.000026     0.000034   0.0     0.0     0.0    0.0\n",
       "201  TGA   0.000007     0.000026     0.000034   0.0     0.0     0.0    0.0\n",
       "202  LES   0.000007     0.000026     0.000034   0.0     0.0     0.0    0.0\n",
       "\n",
       "[203 rows x 8 columns]"
      ],
      "text/html": [
       "<div>\n",
       "<style scoped>\n",
       "    .dataframe tbody tr th:only-of-type {\n",
       "        vertical-align: middle;\n",
       "    }\n",
       "\n",
       "    .dataframe tbody tr th {\n",
       "        vertical-align: top;\n",
       "    }\n",
       "\n",
       "    .dataframe thead th {\n",
       "        text-align: right;\n",
       "    }\n",
       "</style>\n",
       "<table border=\"1\" class=\"dataframe\">\n",
       "  <thead>\n",
       "    <tr style=\"text-align: right;\">\n",
       "      <th></th>\n",
       "      <th>NOC</th>\n",
       "      <th>Gold_rate</th>\n",
       "      <th>Silver_rate</th>\n",
       "      <th>Bronze_rate</th>\n",
       "      <th>Gold</th>\n",
       "      <th>Silver</th>\n",
       "      <th>Bronze</th>\n",
       "      <th>Sum</th>\n",
       "    </tr>\n",
       "  </thead>\n",
       "  <tbody>\n",
       "    <tr>\n",
       "      <th>25</th>\n",
       "      <td>USA</td>\n",
       "      <td>0.141779</td>\n",
       "      <td>0.123208</td>\n",
       "      <td>0.119498</td>\n",
       "      <td>47.0</td>\n",
       "      <td>41.0</td>\n",
       "      <td>39.0</td>\n",
       "      <td>127.0</td>\n",
       "    </tr>\n",
       "    <tr>\n",
       "      <th>0</th>\n",
       "      <td>CHN</td>\n",
       "      <td>0.121992</td>\n",
       "      <td>0.078855</td>\n",
       "      <td>0.063548</td>\n",
       "      <td>40.0</td>\n",
       "      <td>26.0</td>\n",
       "      <td>21.0</td>\n",
       "      <td>87.0</td>\n",
       "    </tr>\n",
       "    <tr>\n",
       "      <th>65</th>\n",
       "      <td>JPN</td>\n",
       "      <td>0.055587</td>\n",
       "      <td>0.036236</td>\n",
       "      <td>0.030806</td>\n",
       "      <td>18.0</td>\n",
       "      <td>12.0</td>\n",
       "      <td>10.0</td>\n",
       "      <td>40.0</td>\n",
       "    </tr>\n",
       "    <tr>\n",
       "      <th>78</th>\n",
       "      <td>GBR</td>\n",
       "      <td>0.051397</td>\n",
       "      <td>0.064337</td>\n",
       "      <td>0.064783</td>\n",
       "      <td>17.0</td>\n",
       "      <td>21.0</td>\n",
       "      <td>21.0</td>\n",
       "      <td>59.0</td>\n",
       "    </tr>\n",
       "    <tr>\n",
       "      <th>40</th>\n",
       "      <td>AUS</td>\n",
       "      <td>0.046768</td>\n",
       "      <td>0.052128</td>\n",
       "      <td>0.044479</td>\n",
       "      <td>15.0</td>\n",
       "      <td>17.0</td>\n",
       "      <td>15.0</td>\n",
       "      <td>47.0</td>\n",
       "    </tr>\n",
       "    <tr>\n",
       "      <th>...</th>\n",
       "      <td>...</td>\n",
       "      <td>...</td>\n",
       "      <td>...</td>\n",
       "      <td>...</td>\n",
       "      <td>...</td>\n",
       "      <td>...</td>\n",
       "      <td>...</td>\n",
       "      <td>...</td>\n",
       "    </tr>\n",
       "    <tr>\n",
       "      <th>198</th>\n",
       "      <td>MHL</td>\n",
       "      <td>0.000007</td>\n",
       "      <td>0.000026</td>\n",
       "      <td>0.000034</td>\n",
       "      <td>0.0</td>\n",
       "      <td>0.0</td>\n",
       "      <td>0.0</td>\n",
       "      <td>0.0</td>\n",
       "    </tr>\n",
       "    <tr>\n",
       "      <th>199</th>\n",
       "      <td>KIR</td>\n",
       "      <td>0.000007</td>\n",
       "      <td>0.000026</td>\n",
       "      <td>0.000034</td>\n",
       "      <td>0.0</td>\n",
       "      <td>0.0</td>\n",
       "      <td>0.0</td>\n",
       "      <td>0.0</td>\n",
       "    </tr>\n",
       "    <tr>\n",
       "      <th>200</th>\n",
       "      <td>TUV</td>\n",
       "      <td>0.000007</td>\n",
       "      <td>0.000026</td>\n",
       "      <td>0.000034</td>\n",
       "      <td>0.0</td>\n",
       "      <td>0.0</td>\n",
       "      <td>0.0</td>\n",
       "      <td>0.0</td>\n",
       "    </tr>\n",
       "    <tr>\n",
       "      <th>201</th>\n",
       "      <td>TGA</td>\n",
       "      <td>0.000007</td>\n",
       "      <td>0.000026</td>\n",
       "      <td>0.000034</td>\n",
       "      <td>0.0</td>\n",
       "      <td>0.0</td>\n",
       "      <td>0.0</td>\n",
       "      <td>0.0</td>\n",
       "    </tr>\n",
       "    <tr>\n",
       "      <th>202</th>\n",
       "      <td>LES</td>\n",
       "      <td>0.000007</td>\n",
       "      <td>0.000026</td>\n",
       "      <td>0.000034</td>\n",
       "      <td>0.0</td>\n",
       "      <td>0.0</td>\n",
       "      <td>0.0</td>\n",
       "      <td>0.0</td>\n",
       "    </tr>\n",
       "  </tbody>\n",
       "</table>\n",
       "<p>203 rows × 8 columns</p>\n",
       "</div>"
      ]
     },
     "execution_count": 411,
     "metadata": {},
     "output_type": "execute_result"
    }
   ],
   "execution_count": 411
  },
  {
   "metadata": {
    "ExecuteTime": {
     "end_time": "2025-01-26T03:25:14.760145Z",
     "start_time": "2025-01-26T03:25:14.755095Z"
    }
   },
   "cell_type": "code",
   "source": "",
   "id": "95af84635f5a408d",
   "outputs": [],
   "execution_count": null
  },
  {
   "metadata": {},
   "cell_type": "code",
   "outputs": [],
   "execution_count": null,
   "source": "",
   "id": "2425546f1126aa69"
  }
 ],
 "metadata": {
  "kernelspec": {
   "display_name": "Python 3",
   "language": "python",
   "name": "python3"
  },
  "language_info": {
   "codemirror_mode": {
    "name": "ipython",
    "version": 2
   },
   "file_extension": ".py",
   "mimetype": "text/x-python",
   "name": "python",
   "nbconvert_exporter": "python",
   "pygments_lexer": "ipython2",
   "version": "2.7.6"
  }
 },
 "nbformat": 4,
 "nbformat_minor": 5
}
