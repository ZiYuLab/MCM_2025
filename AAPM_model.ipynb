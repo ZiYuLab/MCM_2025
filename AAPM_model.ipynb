{
 "cells": [
  {
   "cell_type": "code",
   "execution_count": 4,
   "id": "initial_id",
   "metadata": {
    "collapsed": true,
    "jupyter": {
     "is_executing": true
    }
   },
   "outputs": [],
   "source": [
    "import pandas as pd\n",
    "from sqlalchemy import false\n",
    "from tqdm import *\n",
    "import matplotlib.pyplot as plt\n",
    "from sklearn.preprocessing import StandardScaler\n",
    "# from\n",
    "from sklearn.ensemble import RandomForestRegressor\n",
    "from sklearn.linear_model import LogisticRegression\n",
    "from sklearn.neural_network import MLPClassifier\n",
    "from sklearn.preprocessing import MinMaxScaler\n",
    "from sklearn.model_selection import cross_val_score\n",
    "from sklearn.metrics import mean_squared_error, roc_auc_score, roc_curve, auc, confusion_matrix, accuracy_score\n",
    "import math\n",
    "import itertools\n",
    "from sklearn.model_selection import train_test_split\n",
    "from imblearn.over_sampling import RandomOverSampler\n",
    "from imblearn.under_sampling import RandomUnderSampler\n",
    "\n",
    "import numpy as np"
   ]
  },
  {
   "cell_type": "code",
   "execution_count": 5,
   "id": "ae7386e83656bdcf",
   "metadata": {
    "ExecuteTime": {
     "end_time": "2025-01-26T16:06:35.927824Z",
     "start_time": "2025-01-26T16:06:35.919338Z"
    }
   },
   "outputs": [],
   "source": [
    "team_df = pd.read_csv(\"data/team_index.csv\")\n",
    "programs_index = pd.read_csv('data/programs_index.csv')['program_id'].tolist()\n",
    "team_never_get_medal_list = pd.read_csv(\"data/team_never_get_medal.csv\")[\"NOC\"].tolist()"
   ]
  },
  {
   "cell_type": "code",
   "execution_count": 6,
   "id": "b0cd7bda6ca6766b",
   "metadata": {
    "ExecuteTime": {
     "end_time": "2025-01-26T16:06:36.327084Z",
     "start_time": "2025-01-26T16:06:36.324093Z"
    }
   },
   "outputs": [],
   "source": [
    "team_no_data = []\n",
    "number_each_medal = 329"
   ]
  },
  {
   "cell_type": "code",
   "execution_count": 7,
   "id": "812ca9d1ef21df81",
   "metadata": {
    "ExecuteTime": {
     "end_time": "2025-01-26T16:08:30.392050Z",
     "start_time": "2025-01-26T16:08:30.386473Z"
    }
   },
   "outputs": [],
   "source": [
    "def train_one(dataset, cross_val=False, cross_val_cv=5, val_method=\"neg_mean_squared_error\"):\n",
    "    X = dataset.drop([\"Year\", \"NOC\", \"Gold_rate\", \"Silver_rate\", \"Bronze_rate\", \"Total_rate\"], axis=1)\n",
    "    Y = dataset[['Gold_rate', 'Silver_rate', 'Bronze_rate', 'Total_rate']]\n",
    "    y_g = Y['Gold_rate']\n",
    "    y_s = Y['Silver_rate']\n",
    "    y_b = Y['Bronze_rate']\n",
    "    y_t = Y[\"Total_rate\"]\n",
    "    # print(X, y_g)\n",
    "    g = RandomForestRegressor(n_estimators=200)\n",
    "    s = RandomForestRegressor(n_estimators=200)\n",
    "    b = RandomForestRegressor(n_estimators=200)\n",
    "    t = RandomForestRegressor(n_estimators=200)\n",
    "    g.fit(X, y_g)\n",
    "    s.fit(X, y_s)\n",
    "    b.fit(X, y_b)\n",
    "    t.fit(X, y_t)\n",
    "    if cross_val:\n",
    "        if cross_val_cv == -1:\n",
    "            cross_val_cv = dataset.shape[0]\n",
    "            # print(\"Cross validation cv is set to \", cross_val_cv)\n",
    "        g_score = cross_val_score(g, X, y_g, cv=cross_val_cv, scoring=val_method)\n",
    "        s_score = cross_val_score(s, X, y_s, cv=cross_val_cv, scoring=val_method)\n",
    "        b_score = cross_val_score(b, X, y_b, cv=cross_val_cv, scoring=val_method)\n",
    "        t_score = cross_val_score(t, X, y_t, cv=cross_val_cv, scoring=val_method)\n",
    "        return g, s, b, t, g_score.mean(), s_score.mean(), b_score.mean(), t_score.mean()\n",
    "\n",
    "    return g, s, b, t"
   ]
  },
  {
   "cell_type": "code",
   "execution_count": 8,
   "id": "890408e937426f39",
   "metadata": {
    "ExecuteTime": {
     "end_time": "2025-01-26T16:10:59.592688Z",
     "start_time": "2025-01-26T16:10:59.588435Z"
    }
   },
   "outputs": [],
   "source": [
    "def predict_one(data_set, model_g, model_s, model_b, model_t):\n",
    "    X = data_set.drop([\"Year\", \"NOC\"], axis=1)\n",
    "    y_g_pred = model_g.predict(X)\n",
    "    y_s_pred = model_s.predict(X)\n",
    "    y_b_pred = model_b.predict(X)\n",
    "    y_t_pred = model_t.predict(X)\n",
    "    df = pd.DataFrame()\n",
    "    df[\"NOC\"] = [data_set[\"NOC\"].iloc[0]]\n",
    "    df[\"Gold_rate\"] = y_g_pred\n",
    "    df[\"Silver_rate\"] = y_s_pred\n",
    "    df[\"Bronze_rate\"] = y_b_pred\n",
    "    df[\"Total_rate\"] = y_t_pred\n",
    "    return df"
   ]
  },
  {
   "cell_type": "code",
   "execution_count": 9,
   "id": "a7754408b65ed9e7",
   "metadata": {
    "ExecuteTime": {
     "end_time": "2025-01-26T16:16:52.471024Z",
     "start_time": "2025-01-26T16:16:52.466419Z"
    }
   },
   "outputs": [],
   "source": [
    "def constraint_func(x):\n",
    "    if x < 0:\n",
    "        return 0\n",
    "    elif x > 1:\n",
    "        return 1\n",
    "    else:\n",
    "        return x\n",
    "\n",
    "def rate_to_medal(rate_df, sum_num):\n",
    "    rate_df[\"Gold_rate\"] = rate_df[\"Gold_rate\"].apply(constraint_func)\n",
    "    rate_df[\"Silver_rate\"] = rate_df[\"Silver_rate\"].apply(constraint_func)\n",
    "    rate_df[\"Bronze_rate\"] = rate_df[\"Bronze_rate\"].apply(constraint_func)\n",
    "    rate_df[\"Total_rate\"] = rate_df[\"Total_rate\"].apply(constraint_func)\n",
    "    rate_df[\"Gold\"] = (rate_df[\"Gold_rate\"] * sum_num).round()\n",
    "    rate_df[\"Silver\"] = (rate_df[\"Silver_rate\"] * sum_num).round()\n",
    "    rate_df[\"Bronze\"] = (rate_df[\"Bronze_rate\"] * sum_num).round()\n",
    "    rate_df[\"Total\"] = (rate_df[\"Total_rate\"] * sum_num * 3).round()\n",
    "    rate_df[\"Sum\"] = rate_df[\"Gold\"] + rate_df[\"Silver\"] + rate_df[\"Bronze\"]\n",
    "    return rate_df"
   ]
  },
  {
   "cell_type": "code",
   "execution_count": 10,
   "id": "a94e70be03d86836",
   "metadata": {
    "ExecuteTime": {
     "end_time": "2025-01-26T16:06:39.771660Z",
     "start_time": "2025-01-26T16:06:39.768218Z"
    }
   },
   "outputs": [],
   "source": [
    "def sort_medal(df):\n",
    "    df = df.sort_values(by=[\"Gold\", \"Sum\"], ascending=False)\n",
    "    #df[\"Rank\"] = range(1, df.shape[0] + 1)\n",
    "    return df"
   ]
  },
  {
   "cell_type": "markdown",
   "id": "acb1efea7503cd90",
   "metadata": {},
   "source": [
    "## 部分1 为每个国家单独建立模型评估，应用于特定国家"
   ]
  },
  {
   "cell_type": "code",
   "execution_count": 11,
   "id": "aa3c00e2d82d770f",
   "metadata": {
    "ExecuteTime": {
     "end_time": "2025-01-26T16:06:43.089641Z",
     "start_time": "2025-01-26T16:06:43.081217Z"
    }
   },
   "outputs": [],
   "source": [
    "def train_model_each_team(cross_val=False, cross_val_cv=5, val_method=\"neg_mean_squared_error\"):\n",
    "    model_list = []\n",
    "    predict_result_df = pd.DataFrame()\n",
    "    team_sum = len(team_df)\n",
    "    team_no_data = []\n",
    "    tqdm_bar = tqdm(range(team_sum))\n",
    "    g_score = 0\n",
    "    s_score = 0\n",
    "    b_score = 0\n",
    "    t_score = 0\n",
    "    for i in tqdm_bar:\n",
    "        noc = team_df.iloc[i][\"NOC\"]\n",
    "        try:\n",
    "            df_train = pd.read_csv(\"data/dataset/train/\" + noc + \".csv\")\n",
    "        except FileNotFoundError:\n",
    "            team_no_data.append(noc)\n",
    "            continue\n",
    "        except pd.errors.EmptyDataError:\n",
    "            team_no_data.append(noc)\n",
    "            continue\n",
    "\n",
    "        if df_train.shape[0] < 8 and cross_val:\n",
    "            continue\n",
    "\n",
    "        if cross_val:\n",
    "            model_g, model_s, model_b, model_t, tmp_g_score, tmp_s_score, tmp_b_score, tmp_t_score = train_one(df_train, cross_val=True, cross_val_cv=cross_val_cv, val_method=val_method)\n",
    "            model_list.append([noc, model_g, model_s, model_b, model_t])\n",
    "            g_score += tmp_g_score\n",
    "            s_score += tmp_s_score\n",
    "            b_score += tmp_b_score\n",
    "            t_score += tmp_t_score\n",
    "        else:\n",
    "            model_g, model_s, model_b, model_t = train_one(df_train)\n",
    "            model_list.append([noc, model_g, model_s, model_b, model_t])\n",
    "\n",
    "        tqdm_bar.set_description('Team [{}/{}], NOC: {} '.format(i+1, team_sum, noc))\n",
    "\n",
    "    if cross_val:\n",
    "        team_finish_num = len(model_list)\n",
    "        g_score /= team_finish_num\n",
    "        s_score /= team_finish_num\n",
    "        b_score /= team_finish_num\n",
    "        t_score /= team_finish_num\n",
    "        print(\"Gold MSE: \", g_score)\n",
    "        print(\"Silver MSE: \", s_score)\n",
    "        print(\"Bronze MSE: \", b_score)\n",
    "        print(\"Total MSE: \", t_score)\n",
    "        return \n",
    "\n",
    "    return model_list, team_no_data"
   ]
  },
  {
   "cell_type": "markdown",
   "id": "49b626558b50659f",
   "metadata": {},
   "source": [
    "## 部分2 为所有国家建立相同的模型，并对特定国家进行评估"
   ]
  },
  {
   "cell_type": "code",
   "execution_count": 12,
   "id": "1730dba87d22e22b",
   "metadata": {
    "ExecuteTime": {
     "end_time": "2025-01-26T16:06:47.237052Z",
     "start_time": "2025-01-26T16:06:47.232065Z"
    }
   },
   "outputs": [],
   "source": [
    "def train_model_all_team(cross_val=False, cross_val_cv=5, val_method=\"neg_mean_squared_error\"):\n",
    "    df_train_sum = pd.read_csv(\"data/dataset/train/sum_dataset.csv\")\n",
    "    model_g, model_s, model_b, model_t = train_one(df_train_sum)\n",
    "    if cross_val:\n",
    "        model_g, model_s, model_b, model_t, g_score, s_score, b_score, t_score = train_one(df_train_sum, cross_val=True, cross_val_cv=cross_val_cv, val_method=val_method)\n",
    "        print(\"Gold \" + val_method + \": \", g_score)\n",
    "        print(\"Silver \" + val_method + \": \", s_score)\n",
    "        print(\"Bronze \" + val_method + \": \", b_score)\n",
    "        print(\"Total \" + val_method + \": \", t_score)\n",
    "        return \n",
    "    else:\n",
    "        return [model_g, model_s, model_b, model_t]"
   ]
  },
  {
   "cell_type": "code",
   "execution_count": 13,
   "id": "5b119a3d58ba2270",
   "metadata": {
    "ExecuteTime": {
     "end_time": "2025-01-26T16:13:47.704764Z",
     "start_time": "2025-01-26T16:13:47.698088Z"
    }
   },
   "outputs": [],
   "source": [
    "def predict(model_single_list_, model_all, rate=0.5):\n",
    "    predict_result_df = pd.DataFrame()\n",
    "    for model_single in model_single_list_:\n",
    "        noc = model_single[0]\n",
    "        model_g = model_single[1]\n",
    "        model_s = model_single[2]\n",
    "        model_b = model_single[3]\n",
    "        model_t = model_single[4]\n",
    "        df_predict = pd.read_csv(\"data/dataset/predict/\" + noc + \".csv\")\n",
    "        tmp_single = predict_one(df_predict, model_g, model_s, model_b, model_t)\n",
    "        tmp_all = predict_one(df_predict, model_all[0], model_all[1], model_all[2], model_all[3])\n",
    "        tmp_result = pd.DataFrame()\n",
    "        tmp_result[\"NOC\"] = [noc]\n",
    "        tmp_result[\"Gold_rate\"] = tmp_single[\"Gold_rate\"] * rate + tmp_all[\"Gold_rate\"] * (1 - rate)\n",
    "        tmp_result[\"Silver_rate\"] = tmp_single[\"Silver_rate\"] * rate + tmp_all[\"Silver_rate\"] * (1 - rate)\n",
    "        tmp_result[\"Bronze_rate\"] = tmp_single[\"Bronze_rate\"] * rate + tmp_all[\"Bronze_rate\"] * (1 - rate)\n",
    "        tmp_result[\"Total_rate\"] = tmp_single[\"Total_rate\"] * rate + tmp_all[\"Total_rate\"] * (1 - rate)\n",
    "        predict_result_df = pd.concat([predict_result_df, tmp_result], ignore_index=True)\n",
    "    return predict_result_df"
   ]
  },
  {
   "cell_type": "markdown",
   "id": "f5861cd672016d47",
   "metadata": {},
   "source": [
    "# Verify the Models"
   ]
  },
  {
   "cell_type": "code",
   "execution_count": 77,
   "id": "2ab721de89d7930f",
   "metadata": {
    "ExecuteTime": {
     "end_time": "2025-01-26T12:56:43.925792Z",
     "start_time": "2025-01-26T12:55:18.751906Z"
    }
   },
   "outputs": [
    {
     "name": "stdout",
     "output_type": "stream",
     "text": [
      "Gold neg_mean_squared_error:  -0.00025702141297956875\n",
      "Silver neg_mean_squared_error:  -0.00015032226480717108\n",
      "Bronze neg_mean_squared_error:  -9.57939030726752e-05\n",
      "Total neg_mean_squared_error:  -0.00015484424171193978\n"
     ]
    }
   ],
   "source": [
    "train_model_all_team(cross_val=True, cross_val_cv=5)"
   ]
  },
  {
   "cell_type": "code",
   "execution_count": 78,
   "id": "c32e39acc8a9d753",
   "metadata": {
    "ExecuteTime": {
     "end_time": "2025-01-26T13:52:10.962687Z",
     "start_time": "2025-01-26T13:44:39.569533Z"
    }
   },
   "outputs": [
    {
     "name": "stderr",
     "output_type": "stream",
     "text": [
      "Team [206/206], NOC: LES : 100%|██████████| 206/206 [18:58<00:00,  5.53s/it]"
     ]
    },
    {
     "name": "stdout",
     "output_type": "stream",
     "text": [
      "Gold MSE:  -6.048879073543516e-05\n",
      "Silver MSE:  -4.7091456947223895e-05\n",
      "Bronze MSE:  -4.605929475866713e-05\n",
      "Total MSE:  -3.0079428827261018e-05\n"
     ]
    },
    {
     "name": "stderr",
     "output_type": "stream",
     "text": [
      "\n"
     ]
    }
   ],
   "source": [
    "train_model_each_team(cross_val=True, cross_val_cv=-1) # 对每个队伍单独建立模型"
   ]
  },
  {
   "cell_type": "code",
   "execution_count": 79,
   "id": "c37b838a2a529686",
   "metadata": {
    "ExecuteTime": {
     "end_time": "2025-01-26T13:44:39.469673Z",
     "start_time": "2025-01-26T13:38:03.089262Z"
    }
   },
   "outputs": [
    {
     "name": "stdout",
     "output_type": "stream",
     "text": [
      "Gold r2:  0.41895060497149766\n",
      "Silver r2:  0.4884334607606681\n",
      "Bronze r2:  0.6529158349263671\n",
      "Total r2:  0.5915516830311522\n"
     ]
    }
   ],
   "source": [
    "train_model_all_team(cross_val=True, cross_val_cv=5, val_method=\"r2\")"
   ]
  },
  {
   "cell_type": "code",
   "execution_count": 80,
   "id": "7554e099aff3044b",
   "metadata": {
    "ExecuteTime": {
     "end_time": "2025-01-26T13:44:39.523886Z",
     "start_time": "2025-01-26T13:44:39.520386Z"
    }
   },
   "outputs": [],
   "source": [
    "# train_model_each_team(cross_val=True, cross_val_cv=2, val_method=\"r2\") # 对每个队伍单独建立模型"
   ]
  },
  {
   "cell_type": "markdown",
   "id": "16563fd118c4934e",
   "metadata": {},
   "source": [
    "# 获取项目权重"
   ]
  },
  {
   "cell_type": "code",
   "execution_count": 2,
   "id": "5cb1ef55f207c8a4",
   "metadata": {
    "ExecuteTime": {
     "end_time": "2025-01-26T16:06:54.645415Z",
     "start_time": "2025-01-26T16:06:54.638417Z"
    }
   },
   "outputs": [],
   "source": [
    "def get_weight(noc, single_model_list, without_host=False):\n",
    "    weight_df = pd.DataFrame()\n",
    "    for single_models in single_model_list:\n",
    "        if single_models[0] == noc:\n",
    "            if not without_host:\n",
    "                tmp_df = pd.DataFrame()\n",
    "                tmp_df[\"NOC\"] = [noc]\n",
    "                tmp_df[\"Feature\"] = [\"Host\"]\n",
    "                tmp_df[\"Gold\"] = single_models[1].feature_importances_[0]\n",
    "                tmp_df[\"Silver\"] = single_models[2].feature_importances_[0]\n",
    "                tmp_df[\"Bronze\"] = single_models[3].feature_importances_[0]\n",
    "                tmp_df[\"Total\"] = single_models[4].feature_importances_[0]\n",
    "                weight_df = pd.concat([weight_df, tmp_df], ignore_index=True)\n",
    "\n",
    "            for i in range(len(single_models[1].feature_importances_) - 1):\n",
    "                tmp_df = pd.DataFrame()\n",
    "                tmp_df[\"NOC\"] = [noc]\n",
    "                tmp_df[\"Feature\"] = [programs_index[i]]\n",
    "                tmp_df[\"Gold\"] = single_models[1].feature_importances_[i + 1]\n",
    "                tmp_df[\"Silver\"] = single_models[2].feature_importances_[i + 1]\n",
    "                tmp_df[\"Bronze\"] = single_models[3].feature_importances_[i + 1]\n",
    "                tmp_df[\"Total\"] = single_models[4].feature_importances_[i + 1]\n",
    "                weight_df = pd.concat([weight_df, tmp_df], ignore_index=True)\n",
    "            return weight_df\n",
    "    return weight_df"
   ]
  },
  {
   "cell_type": "markdown",
   "id": "a1e449253de65d2b",
   "metadata": {},
   "source": [
    "# Train model and predict"
   ]
  },
  {
   "cell_type": "code",
   "execution_count": 14,
   "id": "e58d93163e422da5",
   "metadata": {
    "ExecuteTime": {
     "end_time": "2025-01-26T16:15:15.562839Z",
     "start_time": "2025-01-26T16:13:51.547421Z"
    }
   },
   "outputs": [
    {
     "name": "stdout",
     "output_type": "stream",
     "text": [
      "Start training single model\n"
     ]
    },
    {
     "name": "stderr",
     "output_type": "stream",
     "text": [
      "Team [206/206], NOC: LES : 100%|██████████| 206/206 [02:20<00:00,  1.47it/s]\n"
     ]
    },
    {
     "name": "stdout",
     "output_type": "stream",
     "text": [
      "Done\n",
      "Start training all_team model\n",
      "Done\n",
      "Start predicting\n",
      "Done\n"
     ]
    }
   ],
   "source": [
    "\n",
    "print(\"Start training single model\")\n",
    "model_single_list, no_data_list = train_model_each_team() # 对每个队伍单独建立模型\n",
    "print(\"Done\")\n",
    "\n",
    "print(\"Start training all_team model\")\n",
    "model_all_list = train_model_all_team()                   # 对所有队伍建立模型\n",
    "print(\"Done\")\n",
    "\n",
    "print(\"Start predicting\")\n",
    "predict_result = predict(model_single_list, model_all_list) # 预测并进行模型结果平均\n",
    "print(\"Done\")"
   ]
  },
  {
   "cell_type": "markdown",
   "id": "1c3f0e7a6ecf27e7",
   "metadata": {},
   "source": [
    "# Question 1: The medal count in 2028"
   ]
  },
  {
   "cell_type": "code",
   "execution_count": null,
   "id": "4b42deab",
   "metadata": {},
   "outputs": [],
   "source": []
  },
  {
   "cell_type": "code",
   "execution_count": 83,
   "id": "e48b866135fbf9fd",
   "metadata": {
    "ExecuteTime": {
     "end_time": "2025-01-26T16:17:02.666529Z",
     "start_time": "2025-01-26T16:17:02.645500Z"
    }
   },
   "outputs": [],
   "source": [
    "predict_result = rate_to_medal(predict_result, number_each_medal)\n",
    "medal_tops = sort_medal(predict_result)\n",
    "# medal_tops = medal_tops[[\"NOC\", \"Gold\", \"Silver\", \"Bronze\", \"Sum\"]]\n",
    "medal_tops.head(10)\n",
    "medal_tops.to_csv(\"output/medal_count_in_2028.csv\")"
   ]
  },
  {
   "cell_type": "markdown",
   "id": "fb1920b58dbf5951",
   "metadata": {},
   "source": [
    "# Question 2: The most potential team to get their first medal in 2028"
   ]
  },
  {
   "cell_type": "code",
   "execution_count": 84,
   "id": "e62c70fbe6ddb8fc",
   "metadata": {
    "ExecuteTime": {
     "end_time": "2025-01-26T17:14:51.380851Z",
     "start_time": "2025-01-26T17:14:51.375353Z"
    }
   },
   "outputs": [],
   "source": [
    "def train_MWPM(data_set, val=False, test_size=0.2):\n",
    "    model = MLPClassifier(hidden_layer_sizes=(50, 25), max_iter=2000, activation=\"relu\", random_state=42)\n",
    "    X = data_set.drop([\"Year\", \"NOC\", \"Total_rate\"], axis=1)\n",
    "    Y = data_set[\"Total_rate\"]\n",
    "    \n",
    "    # over sampling to balance the data\n",
    "    ros = RandomUnderSampler(random_state=42)\n",
    "    X, Y = ros.fit_resample(X, Y)\n",
    "\n",
    "    if val:\n",
    "        X_train, X_test, Y_train, Y_test = train_test_split(X, Y, test_size=test_size, shuffle=True, random_state=42)\n",
    "        model.fit(X_train, Y_train)\n",
    "        Y_pred = model.predict(X_test)\n",
    "        Y_pred_prob = model.predict_proba(X_test)[:, 1]\n",
    "        fpr, tpr, thresholds = roc_curve(Y_test, Y_pred_prob)\n",
    "        cm = confusion_matrix(Y_test, Y_pred)\n",
    "        auc_score = auc(fpr, tpr)\n",
    "        return auc_score, cm, fpr, tpr, accuracy_score(Y_test, Y_pred)\n",
    "    model.fit(X, Y)\n",
    "    return model\n",
    "\n",
    "def predict_MWPM(data_set, model):\n",
    "    X = data_set.drop([\"Year\", \"NOC\"], axis=1)\n",
    "    Y = model.predict_proba(X)[:, 1]\n",
    "    return Y"
   ]
  },
  {
   "cell_type": "code",
   "execution_count": 85,
   "id": "e66d16b1",
   "metadata": {},
   "outputs": [],
   "source": [
    "def draw_ROC(fpr, tpr, auc_score): # by https://blog.csdn.net/Joker00007/article/details/120626775\n",
    "    plt.style.use('default')\n",
    "    plt.figure(figsize=(6, 6))\n",
    "    plt.title('Validation ROC')\n",
    "    plt.plot(fpr, tpr, 'b', label='Val AUC = %0.3f' % auc_score)\n",
    "    plt.legend(loc='lower right')\n",
    "    plt.plot([0, 1], [0, 1], 'r--')\n",
    "    plt.xlim([0, 1])\n",
    "    plt.ylim([0, 1])\n",
    "    plt.ylabel('True Positive Rate')\n",
    "    plt.xlabel('False Positive Rate')\n",
    "    \n",
    "    plt.savefig(\"output/ROC.eps\")\n",
    "    plt.show()\n",
    "\n",
    "def plot_confusion_matrix(confusion_mat): # by http://www.simyng.com/index.php/archives/96/\n",
    "    # 画混淆矩阵图，配色风格使用cm.Greens\n",
    "    plt.style.use('default')\n",
    "    plt.imshow(confusion_mat,interpolation='nearest',cmap=\"winter\") \n",
    "    \n",
    "    # 显示colorbar\n",
    "    plt.colorbar()\n",
    "    \n",
    "    # 使用annotate在图中显示混淆矩阵的数据\n",
    "    for x in range(len(confusion_mat)):\n",
    "        for y in range(len(confusion_mat)):\n",
    "            plt.annotate(confusion_mat[x, y], xy=(x, y), horizontalalignment='center', verticalalignment='center')\n",
    "            # 第一个参数是注释的内容\n",
    "            # xy设置箭头尖的坐标\n",
    "            # horizontalalignment水平对齐\n",
    "            # verticalalignment垂直对齐\n",
    "            # 其余常用参数如下：\n",
    "            # xytext设置注释内容显示的起始位置\n",
    "            # arrowprops 用来设置箭头\n",
    "            # facecolor 设置箭头的颜色\n",
    "            # headlength 箭头的头的长度\n",
    "            # headwidth 箭头的宽度\n",
    "            # width 箭身的宽度\n",
    "\n",
    "    plt.title('Confusion Matrix')     # 图标title\n",
    "    plt.ylabel('True label')          # 坐标轴标签\n",
    "    plt.xlabel('Predicted label')     # 坐标轴标签\n",
    "    \n",
    "    tick_marks = np.arange(2)\n",
    "    plt.xticks(tick_marks, tick_marks)\n",
    "    plt.yticks(tick_marks, tick_marks)\n",
    "    plt.savefig(\"output/Confusion_Matrix.eps\")\n",
    "    plt.show()\n",
    "    \n",
    "    "
   ]
  },
  {
   "cell_type": "code",
   "execution_count": 86,
   "id": "0990daae",
   "metadata": {},
   "outputs": [],
   "source": [
    "classify_dataset = pd.read_csv(\"data/dataset/train/classify_dataset.csv\")"
   ]
  },
  {
   "cell_type": "markdown",
   "id": "cfe72e5a",
   "metadata": {},
   "source": [
    "# Verify the model"
   ]
  },
  {
   "cell_type": "code",
   "execution_count": 87,
   "id": "765b8f42",
   "metadata": {},
   "outputs": [
    {
     "name": "stdout",
     "output_type": "stream",
     "text": [
      "AUC:  0.9486916577803297\n",
      "Accuracy:  0.9265175718849841\n"
     ]
    }
   ],
   "source": [
    "w_aux, w_cm, w_fpr, w_tpr, w_ac = train_MWPM(classify_dataset, val=True, test_size=0.20)\n",
    "print(\"AUC: \", w_aux)\n",
    "print(\"Accuracy: \", w_ac)"
   ]
  },
  {
   "cell_type": "code",
   "execution_count": 88,
   "id": "82089cfd",
   "metadata": {},
   "outputs": [
    {
     "data": {
      "image/png": "[encoded data removed]",
      "text/plain": [
       "<Figure size 640x480 with 2 Axes>"
      ]
     },
     "metadata": {},
     "output_type": "display_data"
    }
   ],
   "source": [
    "plot_confusion_matrix(w_cm)"
   ]
  },
  {
   "cell_type": "code",
   "execution_count": 89,
   "id": "318ca58a",
   "metadata": {},
   "outputs": [
    {
     "name": "stderr",
     "output_type": "stream",
     "text": [
      "The PostScript backend does not support transparency; partially transparent artists will be rendered opaque.\n"
     ]
    },
    {
     "data": {
      "image/png": "[encoded data removed]",
      "text/plain": [
       "<Figure size 600x600 with 1 Axes>"
      ]
     },
     "metadata": {},
     "output_type": "display_data"
    }
   ],
   "source": [
    "draw_ROC(w_fpr, w_tpr, w_aux)"
   ]
  },
  {
   "cell_type": "code",
   "execution_count": 90,
   "id": "aeb34bcec81fc74e",
   "metadata": {
    "ExecuteTime": {
     "end_time": "2025-01-26T17:14:52.785493Z",
     "start_time": "2025-01-26T17:14:51.904983Z"
    }
   },
   "outputs": [],
   "source": [
    "WGMM_model = train_MWPM(classify_dataset)\n",
    "\n",
    "classify_result_df = pd.DataFrame()\n",
    "for each_noc in team_df[\"NOC\"].to_list():\n",
    "    try:\n",
    "        df = pd.read_csv(\"data/dataset/predict/\" + each_noc + \".csv\")\n",
    "    except FileNotFoundError:\n",
    "        continue\n",
    "    except pd.errors.EmptyDataError:\n",
    "        continue\n",
    "    result_df = pd.DataFrame()\n",
    "    result_df[\"NOC\"] = [each_noc]\n",
    "    result_df[\"Medal_rate\"] = predict_MWPM(df, WGMM_model)\n",
    "    classify_result_df = pd.concat([classify_result_df, result_df], ignore_index=True)\n",
    "\n",
    "team_never_get_medal_df = classify_result_df[classify_result_df[\"NOC\"].isin(team_never_get_medal_list)]\n",
    "team_never_get_medal_df = team_never_get_medal_df.sort_values(by=\"Medal_rate\", ascending=False)"
   ]
  },
  {
   "cell_type": "code",
   "execution_count": 91,
   "id": "012f05a2",
   "metadata": {},
   "outputs": [
    {
     "data": {
      "text/html": [
       "<div>\n",
       "<style scoped>\n",
       "    .dataframe tbody tr th:only-of-type {\n",
       "        vertical-align: middle;\n",
       "    }\n",
       "\n",
       "    .dataframe tbody tr th {\n",
       "        vertical-align: top;\n",
       "    }\n",
       "\n",
       "    .dataframe thead th {\n",
       "        text-align: right;\n",
       "    }\n",
       "</style>\n",
       "<table border=\"1\" class=\"dataframe\">\n",
       "  <thead>\n",
       "    <tr style=\"text-align: right;\">\n",
       "      <th></th>\n",
       "      <th>NOC</th>\n",
       "      <th>Medal_rate</th>\n",
       "    </tr>\n",
       "  </thead>\n",
       "  <tbody>\n",
       "    <tr>\n",
       "      <th>167</th>\n",
       "      <td>PRK</td>\n",
       "      <td>1.000000</td>\n",
       "    </tr>\n",
       "    <tr>\n",
       "      <th>183</th>\n",
       "      <td>ZAM</td>\n",
       "      <td>0.486610</td>\n",
       "    </tr>\n",
       "    <tr>\n",
       "      <th>75</th>\n",
       "      <td>CIV</td>\n",
       "      <td>0.467491</td>\n",
       "    </tr>\n",
       "    <tr>\n",
       "      <th>28</th>\n",
       "      <td>NGR</td>\n",
       "      <td>0.182116</td>\n",
       "    </tr>\n",
       "    <tr>\n",
       "      <th>99</th>\n",
       "      <td>PUR</td>\n",
       "      <td>0.176461</td>\n",
       "    </tr>\n",
       "    <tr>\n",
       "      <th>142</th>\n",
       "      <td>MDA</td>\n",
       "      <td>0.038148</td>\n",
       "    </tr>\n",
       "    <tr>\n",
       "      <th>14</th>\n",
       "      <td>CHA</td>\n",
       "      <td>0.018615</td>\n",
       "    </tr>\n",
       "    <tr>\n",
       "      <th>158</th>\n",
       "      <td>TLS</td>\n",
       "      <td>0.018615</td>\n",
       "    </tr>\n",
       "    <tr>\n",
       "      <th>168</th>\n",
       "      <td>SOL</td>\n",
       "      <td>0.018615</td>\n",
       "    </tr>\n",
       "    <tr>\n",
       "      <th>166</th>\n",
       "      <td>CAM</td>\n",
       "      <td>0.018615</td>\n",
       "    </tr>\n",
       "  </tbody>\n",
       "</table>\n",
       "</div>"
      ],
      "text/plain": [
       "     NOC  Medal_rate\n",
       "167  PRK    1.000000\n",
       "183  ZAM    0.486610\n",
       "75   CIV    0.467491\n",
       "28   NGR    0.182116\n",
       "99   PUR    0.176461\n",
       "142  MDA    0.038148\n",
       "14   CHA    0.018615\n",
       "158  TLS    0.018615\n",
       "168  SOL    0.018615\n",
       "166  CAM    0.018615"
      ]
     },
     "execution_count": 91,
     "metadata": {},
     "output_type": "execute_result"
    }
   ],
   "source": [
    "team_never_get_medal_df.head(10)"
   ]
  },
  {
   "cell_type": "markdown",
   "id": "afd3a7b0d9b5fe5d",
   "metadata": {},
   "source": [
    "# Question 3: The importance of each program in each country"
   ]
  },
  {
   "cell_type": "code",
   "execution_count": 3,
   "id": "95af84635f5a408d",
   "metadata": {
    "ExecuteTime": {
     "end_time": "2025-01-26T14:34:03.499341Z",
     "start_time": "2025-01-26T14:34:02.687671Z"
    }
   },
   "outputs": [
    {
     "ename": "NameError",
     "evalue": "name 'model_single_list' is not defined",
     "output_type": "error",
     "traceback": [
      "\u001b[1;31m---------------------------------------------------------------------------\u001b[0m",
      "\u001b[1;31mNameError\u001b[0m                                 Traceback (most recent call last)",
      "Cell \u001b[1;32mIn[3], line 1\u001b[0m\n\u001b[1;32m----> 1\u001b[0m weight \u001b[38;5;241m=\u001b[39m get_weight(\u001b[38;5;124m\"\u001b[39m\u001b[38;5;124mCHN\u001b[39m\u001b[38;5;124m\"\u001b[39m, model_single_list, without_host\u001b[38;5;241m=\u001b[39m\u001b[38;5;28;01mFalse\u001b[39;00m) \u001b[38;5;66;03m# 重要性，输谁查谁\u001b[39;00m\n\u001b[0;32m      2\u001b[0m weight\u001b[38;5;241m.\u001b[39mto_csv(\u001b[38;5;124m\"\u001b[39m\u001b[38;5;124moutput/weight_jpn.csv\u001b[39m\u001b[38;5;124m\"\u001b[39m)\n",
      "\u001b[1;31mNameError\u001b[0m: name 'model_single_list' is not defined"
     ]
    }
   ],
   "source": [
    "weight = get_weight(\"CHN\", model_single_list, without_host=False) # 重要性，输谁查谁\n",
    "weight.to_csv(\"output/weight_jpn.csv\")"
   ]
  },
  {
   "cell_type": "code",
   "execution_count": null,
   "id": "2425546f1126aa69",
   "metadata": {
    "ExecuteTime": {
     "end_time": "2025-01-26T14:14:35.164748Z",
     "start_time": "2025-01-26T14:14:35.035880Z"
    }
   },
   "outputs": [],
   "source": []
  }
 ],
 "metadata": {
  "kernelspec": {
   "display_name": "base",
   "language": "python",
   "name": "python3"
  },
  "language_info": {
   "codemirror_mode": {
    "name": "ipython",
    "version": 3
   },
   "file_extension": ".py",
   "mimetype": "text/x-python",
   "name": "python",
   "nbconvert_exporter": "python",
   "pygments_lexer": "ipython3",
   "version": "3.12.7"
  }
 },
 "nbformat": 4,
 "nbformat_minor": 5
}
