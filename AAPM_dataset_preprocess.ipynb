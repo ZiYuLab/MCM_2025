{
 "cells": [
  {
   "cell_type": "code",
   "id": "initial_id",
   "metadata": {
    "collapsed": true,
    "ExecuteTime": {
     "end_time": "2025-01-26T02:51:19.072488Z",
     "start_time": "2025-01-26T02:51:19.068857Z"
    }
   },
   "source": [
    "import pandas as pd\n",
    "from sqlalchemy import false\n",
    "from tqdm import *"
   ],
   "outputs": [],
   "execution_count": 113
  },
  {
   "metadata": {
    "ExecuteTime": {
     "end_time": "2025-01-26T16:33:26.632242Z",
     "start_time": "2025-01-26T16:33:26.400750Z"
    }
   },
   "cell_type": "code",
   "source": [
    "data_athletes = pd.read_csv('data/athletes.csv')\n",
    "data_programs = pd.read_csv('data/programs.csv')\n",
    "data_medal_counts = pd.read_csv('data/medal_counts.csv')\n",
    "team_df = pd.read_csv('data/team_index.csv')\n",
    "years_index = range(1896, 2025, 4)\n",
    "programs_index = pd.read_csv('data/programs_index.csv')['program_id'].tolist()\n"
   ],
   "id": "3da04cb2ec030bcc",
   "outputs": [],
   "execution_count": 210
  },
  {
   "metadata": {
    "ExecuteTime": {
     "end_time": "2025-01-26T16:33:31.589802Z",
     "start_time": "2025-01-26T16:33:31.585508Z"
    }
   },
   "cell_type": "code",
   "source": [
    "number_of_years_considered = 3\n",
    "number_of_years_start = 2\n",
    "number_each_medal = 329\n",
    "medal_score = {\n",
    "    \"Gold\": 3,\n",
    "    \"Silver\": 2,\n",
    "    \"Bronze\": 1\n",
    "}\n",
    "# team_not_include_in_athletes = []\n",
    "# team_not_match_in_any_program = []\n",
    "# team_not_save = []"
   ],
   "id": "3c04828d8c4abd4a",
   "outputs": [],
   "execution_count": 211
  },
  {
   "metadata": {
    "ExecuteTime": {
     "end_time": "2025-01-26T16:58:57.788969Z",
     "start_time": "2025-01-26T16:58:57.776287Z"
    }
   },
   "cell_type": "code",
   "source": [
    "def make_dataset(noc, team_now, team_sum, predict_data_2028=False):\n",
    "    tmp_athletes = data_athletes[data_athletes[\"NOC\"] == noc]\n",
    "    result_df = pd.DataFrame()\n",
    "    if tmp_athletes.shape[0] == 0:\n",
    "        team_not_include_in_athletes.append(noc)\n",
    "        # print(\"No such team: \" + noc)\n",
    "        return result_df\n",
    "        # raise ValueError(\"No such team: \" + team_name + \" (\" + noc + \")\")\n",
    "    num_participate = 0\n",
    "\n",
    "    # each year\n",
    "    if not predict_data_2028:\n",
    "        tqdm_bar = tqdm(years_index)\n",
    "    else:\n",
    "        tqdm_bar = [2024]\n",
    "    for year in tqdm_bar:\n",
    "        tmp_one_year = tmp_athletes[tmp_athletes[\"Year\"] == year]\n",
    "\n",
    "        if tmp_one_year.shape[0] == 0:\n",
    "            continue\n",
    "        elif tmp_one_year.shape[0] != 0 and num_participate <= number_of_years_start and not predict_data_2028:\n",
    "            num_participate += 1\n",
    "            continue\n",
    "\n",
    "        if predict_data_2028:\n",
    "            if noc == \"USA\":\n",
    "                host = 1\n",
    "            else:\n",
    "                host = 0\n",
    "        else:\n",
    "            host = tmp_one_year[\"Host\"].iloc[0]\n",
    "        tmp_one_year_medal = data_medal_counts[data_medal_counts[\"Year\"] == year]\n",
    "        sum_g = tmp_one_year_medal[\"Gold\"].sum()\n",
    "        sum_s = tmp_one_year_medal[\"Silver\"].sum()\n",
    "        sum_b = tmp_one_year_medal[\"Bronze\"].sum()\n",
    "        sum_total = tmp_one_year_medal[\"Total\"].sum()\n",
    "\n",
    "        tmp_one_year_medal = tmp_one_year_medal[tmp_one_year_medal[\"NOC\"] == noc]\n",
    "\n",
    "        if tmp_one_year_medal.shape[0] != 0:\n",
    "            rate_g = tmp_one_year_medal[\"Gold\"].sum() / sum_g\n",
    "            rate_s = tmp_one_year_medal[\"Silver\"].sum() / sum_s\n",
    "            rate_b = tmp_one_year_medal[\"Bronze\"].sum() / sum_b\n",
    "            rate_total = tmp_one_year_medal[\"Total\"].sum() / sum_total\n",
    "        else:\n",
    "            rate_g = 0\n",
    "            rate_s = 0\n",
    "            rate_b = 0\n",
    "            rate_total = 0\n",
    "\n",
    "        tmp_df = pd.DataFrame()\n",
    "        tmp_df[\"Year\"] = [year]\n",
    "        tmp_df[\"NOC\"] = [noc]\n",
    "        if not predict_data_2028:\n",
    "            tmp_df[\"Gold_rate\"] = [rate_g]\n",
    "            tmp_df[\"Silver_rate\"] = [rate_s]\n",
    "            tmp_df[\"Bronze_rate\"] = [rate_b]\n",
    "            tmp_df[\"Total_rate\"] = [rate_total]\n",
    "        tmp_df[\"Host\"] = [host]\n",
    "\n",
    "        # each program\n",
    "        for program in programs_index:\n",
    "            tmp_one_year_program = tmp_one_year[tmp_one_year[\"Sport\"] == program]\n",
    "            if tmp_one_year_program.shape[0] == 0:\n",
    "                tmp_df[program] = [0]\n",
    "                continue\n",
    "            tmp_one_year_program_athletes = list(set(tmp_one_year_program[\"Name\"].tolist()))\n",
    "\n",
    "            team_score_in_program = 0\n",
    "            athletes_num_in_program = 0\n",
    "\n",
    "            for each_athletes in tmp_one_year_program_athletes:\n",
    "                if predict_data_2028:\n",
    "                    tmp_athletes_record = tmp_athletes[(tmp_athletes[\"Name\"] == each_athletes) & (tmp_athletes[\"Year\"] <= year) & (tmp_athletes[\"Year\"] >= (year - 4 * number_of_years_considered))]\n",
    "                else:\n",
    "                    tmp_athletes_record = tmp_athletes[(tmp_athletes[\"Name\"] == each_athletes) & (tmp_athletes[\"Year\"] <= year) & (tmp_athletes[\"Year\"] >= (year - 4 * number_of_years_considered))]\n",
    "\n",
    "                if tmp_athletes_record.shape[0] == 0:\n",
    "                    athletes_num_in_program += 1\n",
    "                    continue\n",
    "                else:\n",
    "                    number_of_participation = len(list(set(tmp_athletes_record[\"Year\"])))\n",
    "                    team_score_in_program += tmp_athletes_record[\"Medal\"].sum() / number_of_participation\n",
    "                    athletes_num_in_program += 1\n",
    "\n",
    "            # print(year)\n",
    "            # tmp = data_programs[data_programs[\"Code\"] == program]\n",
    "            # return tmp[\"2004\"]\n",
    "            all_program_event = (data_programs[data_programs[\"Code\"] == program])[str(year)].iloc[0]\n",
    "            tmp_df[program] = [team_score_in_program / all_program_event]\n",
    "\n",
    "        result_df = pd.concat([result_df, tmp_df], ignore_index=True)\n",
    "\n",
    "        if result_df.shape[0] == 0:\n",
    "            team_not_match_in_any_program.append(noc)\n",
    "            return result_df\n",
    "        if not predict_data_2028:\n",
    "            tqdm_bar.set_description('Team [{}/{}], NOC: {}, Year: {}, Usable:{} '.format(team_now, team_sum, noc, year, result_df.shape[0]))\n",
    "\n",
    "        if predict_data_2028:\n",
    "            break\n",
    "\n",
    "    result_df.fillna(0, inplace=True)\n",
    "    return result_df\n"
   ],
   "id": "adac4413496b1495",
   "outputs": [],
   "execution_count": 218
  },
  {
   "metadata": {
    "ExecuteTime": {
     "end_time": "2025-01-26T16:58:58.474221Z",
     "start_time": "2025-01-26T16:58:58.466465Z"
    }
   },
   "cell_type": "code",
   "source": [
    "data_athletes[\"Medal\"] = data_athletes[\"Medal\"].replace(\"Gold\", medal_score[\"Gold\"])\n",
    "data_athletes[\"Medal\"] = data_athletes[\"Medal\"].replace(\"Silver\", medal_score[\"Silver\"])\n",
    "data_athletes[\"Medal\"] = data_athletes[\"Medal\"].replace(\"Bronze\", medal_score[\"Bronze\"])\n",
    "data_athletes[\"Medal\"] = data_athletes[\"Medal\"].replace(\"No medal\", 0)\n",
    "team_sum = len(team_df)\n",
    "\n",
    "team_not_include_in_athletes = []\n",
    "team_not_save = []\n",
    "team_not_match_in_any_program = []\n",
    "# make_dataset(\"CHN\", 1, 206)"
   ],
   "id": "bbd0d3b6fce1e1d5",
   "outputs": [],
   "execution_count": 219
  },
  {
   "metadata": {},
   "cell_type": "markdown",
   "source": "# Train dataset from each team",
   "id": "f99e24756cd30ec3"
  },
  {
   "metadata": {
    "ExecuteTime": {
     "end_time": "2025-01-26T17:01:02.764174Z",
     "start_time": "2025-01-26T16:59:01.050136Z"
    }
   },
   "cell_type": "code",
   "source": [
    "print(\"Make train dataset for each team\")\n",
    "for i in range(team_sum):\n",
    "    noc = team_df.iloc[i][\"NOC\"]\n",
    "    df = make_dataset(noc, i+1, team_sum)\n",
    "    if df.shape[0] == 0:\n",
    "        team_not_save.append(noc)\n",
    "        continue\n",
    "    df.to_csv(\"data/dataset/train/\" + noc + \".csv\", index=False)"
   ],
   "id": "686d76f080929ae6",
   "outputs": [
    {
     "name": "stdout",
     "output_type": "stream",
     "text": [
      "Make train dataset for each team\n"
     ]
    },
    {
     "name": "stderr",
     "output_type": "stream",
     "text": [
      "Team [1/206], NOC: CHN, Year: 2024, Usable:8 : 100%|██████████| 33/33 [00:02<00:00, 16.08it/s] \n",
      "Team [2/206], NOC: DEN, Year: 2024, Usable:14 : 100%|██████████| 33/33 [00:01<00:00, 32.61it/s] \n",
      "Team [3/206], NOC: NED, Year: 2024, Usable:14 : 100%|██████████| 33/33 [00:01<00:00, 20.03it/s] \n",
      "Team [4/206], NOC: FIN, Year: 2024, Usable:14 : 100%|██████████| 33/33 [00:00<00:00, 36.46it/s] \n",
      "Team [5/206], NOC: NOR, Year: 2024, Usable:14 : 100%|██████████| 33/33 [00:00<00:00, 35.49it/s] \n",
      "Team [6/206], NOC: ROU, Year: 2024, Usable:14 : 100%|██████████| 33/33 [00:01<00:00, 24.91it/s] \n",
      "Team [7/206], NOC: EST, Year: 2024, Usable:6 : 100%|██████████| 33/33 [00:00<00:00, 127.04it/s]\n",
      "Team [8/206], NOC: FRA, Year: 2024, Usable:14 : 100%|██████████| 33/33 [00:03<00:00,  9.02it/s] \n",
      "Team [9/206], NOC: MAR, Year: 2024, Usable:12 : 100%|██████████| 33/33 [00:00<00:00, 61.09it/s] \n",
      "Team [10/206], NOC: ESP, Year: 2024, Usable:14 : 100%|██████████| 33/33 [00:02<00:00, 13.60it/s] \n",
      "Team [11/206], NOC: EGY, Year: 2024, Usable:14 : 100%|██████████| 33/33 [00:00<00:00, 35.62it/s] \n",
      "Team [12/206], NOC: IRI, Year: 2024, Usable:14 : 100%|██████████| 33/33 [00:00<00:00, 53.77it/s] \n",
      "Team [13/206], NOC: BUL, Year: 2024, Usable:14 : 100%|██████████| 33/33 [00:01<00:00, 32.48it/s] \n",
      "Team [14/206], NOC: ITA, Year: 2024, Usable:14 : 100%|██████████| 33/33 [00:03<00:00, 10.46it/s] \n",
      "Team [15/206], NOC: CHA, Year: 2024, Usable:10 : 100%|██████████| 33/33 [00:00<00:00, 140.28it/s]\n",
      "Team [16/206], NOC: AZE, Year: 2024, Usable:5 : 100%|██████████| 33/33 [00:00<00:00, 131.33it/s]\n",
      "Team [17/206], NOC: SUD, Year: 2024, Usable:10 : 100%|██████████| 33/33 [00:00<00:00, 119.00it/s]\n",
      "Team [18/206], NOC: AIN, Year: 2024, Usable:6 : 100%|██████████| 33/33 [00:01<00:00, 17.49it/s]\n",
      "Team [19/206], NOC: ARG, Year: 2024, Usable:14 : 100%|██████████| 33/33 [00:01<00:00, 27.79it/s] \n",
      "Team [20/206], NOC: CUB, Year: 2024, Usable:13 : 100%|██████████| 33/33 [00:01<00:00, 29.46it/s] \n",
      "Team [21/206], NOC: GRE, Year: 2024, Usable:14 : 100%|██████████| 33/33 [00:01<00:00, 27.69it/s] \n",
      "Team [22/206], NOC: CMR, Year: 2024, Usable:11 : 100%|██████████| 33/33 [00:00<00:00, 97.78it/s] \n",
      "Team [23/206], NOC: TUR, Year: 2024, Usable:14 : 100%|██████████| 33/33 [00:00<00:00, 42.05it/s] \n",
      "Team [24/206], NOC: CHI, Year: 2024, Usable:14 : 100%|██████████| 33/33 [00:00<00:00, 61.59it/s] \n",
      "Team [25/206], NOC: MEX, Year: 2024, Usable:14 : 100%|██████████| 33/33 [00:01<00:00, 24.18it/s]\n",
      "Team [26/206], NOC: USA, Year: 2024, Usable:14 : 100%|██████████| 33/33 [00:07<00:00,  4.50it/s]\n",
      "Team [27/206], NOC: NCA, Year: 2024, Usable:9 : 100%|██████████| 33/33 [00:00<00:00, 120.98it/s]\n",
      "Team [28/206], NOC: HUN, Year: 2024, Usable:14 : 100%|██████████| 33/33 [00:02<00:00, 14.09it/s] \n",
      "Team [29/206], NOC: NGR, Year: 2024, Usable:13 : 100%|██████████| 33/33 [00:00<00:00, 47.25it/s] \n",
      "Team [30/206], NOC: ALG, Year: 2024, Usable:10 : 100%|██████████| 33/33 [00:00<00:00, 68.19it/s] \n",
      "Team [31/206], NOC: KUW, Year: 2024, Usable:9 : 100%|██████████| 33/33 [00:00<00:00, 116.54it/s]\n",
      "Team [32/206], NOC: BRN, Year: 2024, Usable:7 : 100%|██████████| 33/33 [00:00<00:00, 136.82it/s]\n",
      "Team [33/206], NOC: PAK, Year: 2024, Usable:14 : 100%|██████████| 33/33 [00:00<00:00, 78.01it/s] \n",
      "Team [34/206], NOC: IRQ, Year: 2024, Usable:10 : 100%|██████████| 33/33 [00:00<00:00, 110.45it/s]\n",
      "Team [35/206], NOC: LBN, Year: 2024, Usable:13 : 100%|██████████| 33/33 [00:00<00:00, 86.46it/s] \n",
      "Team [36/206], NOC: QAT, Year: 2024, Usable:7 : 100%|██████████| 33/33 [00:00<00:00, 135.14it/s]\n",
      "Team [37/206], NOC: MAS, Year: 2024, Usable:13 : 100%|██████████| 33/33 [00:00<00:00, 77.47it/s] \n",
      "Team [38/206], NOC: GER, Year: 2024, Usable:14 : 100%|██████████| 33/33 [00:06<00:00,  5.13it/s]\n",
      "Team [39/206], NOC: CAN, Year: 2024, Usable:14 : 100%|██████████| 33/33 [00:03<00:00, 10.60it/s]\n",
      "Team [40/206], NOC: IRL, Year: 2024, Usable:14 : 100%|██████████| 33/33 [00:00<00:00, 35.98it/s] \n",
      "Team [41/206], NOC: AUS, Year: 2024, Usable:14 : 100%|██████████| 33/33 [00:04<00:00,  8.09it/s]\n",
      "Team [42/206], NOC: RSA, Year: 2024, Usable:9 : 100%|██████████| 33/33 [00:00<00:00, 44.79it/s] \n",
      "Team [43/206], NOC: ERI, Year: 2024, Usable:4 : 100%|██████████| 33/33 [00:00<00:00, 286.90it/s]\n",
      "Team [44/206], NOC: TAN, Year: 2024, Usable:10 : 100%|██████████| 33/33 [00:00<00:00, 122.28it/s]\n",
      "Team [45/206], NOC: JOR, Year: 2024, Usable:7 : 100%|██████████| 33/33 [00:00<00:00, 180.27it/s]\n",
      "Team [46/206], NOC: TUN, Year: 2024, Usable:12 : 100%|██████████| 33/33 [00:00<00:00, 65.00it/s] \n",
      "Team [47/206], NOC: LBA, Year: 2024, Usable:8 : 100%|██████████| 33/33 [00:00<00:00, 165.34it/s]\n",
      "Team [48/206], NOC: BEL, Year: 2024, Usable:14 : 100%|██████████| 33/33 [00:00<00:00, 38.83it/s] \n",
      "Team [49/206], NOC: DJI, Year: 2024, Usable:6 : 100%|██████████| 33/33 [00:00<00:00, 221.28it/s]\n",
      "Team [50/206], NOC: PLE, Year: 2024, Usable:5 : 100%|██████████| 33/33 [00:00<00:00, 259.05it/s]\n",
      "Team [51/206], NOC: COM, Year: 2024, Usable:5 : 100%|██████████| 33/33 [00:00<00:00, 273.12it/s]\n",
      "Team [52/206], NOC: KAZ, Year: 2024, Usable:5 : 100%|██████████| 33/33 [00:00<00:00, 86.48it/s] \n",
      "Team [53/206], NOC: BRU, Year: 2024, Usable:4 : 100%|██████████| 33/33 [00:00<00:00, 358.28it/s]\n",
      "Team [54/206], NOC: IND, Year: 2024, Usable:14 : 100%|██████████| 33/33 [00:00<00:00, 47.06it/s] \n",
      "Team [55/206], NOC: KSA, Year: 2024, Usable:9 : 100%|██████████| 33/33 [00:00<00:00, 115.38it/s]\n",
      "Team [56/206], NOC: SYR, Year: 2024, Usable:9 : 100%|██████████| 33/33 [00:00<00:00, 132.58it/s]\n",
      "Team [57/206], NOC: MDV, Year: 2024, Usable:7 : 100%|██████████| 33/33 [00:00<00:00, 197.57it/s]\n",
      "Team [58/206], NOC: ETH, Year: 2024, Usable:11 : 100%|██████████| 33/33 [00:00<00:00, 81.24it/s] \n",
      "Team [59/206], NOC: UAE, Year: 2024, Usable:7 : 100%|██████████| 33/33 [00:00<00:00, 164.99it/s]\n",
      "Team [60/206], NOC: INA, Year: 2024, Usable:13 : 100%|██████████| 33/33 [00:00<00:00, 73.37it/s] \n",
      "Team [61/206], NOC: PHI, Year: 2024, Usable:14 : 100%|██████████| 33/33 [00:00<00:00, 65.81it/s] \n",
      "Team [62/206], NOC: SGP, Year: 2024, Usable:13 : 100%|██████████| 33/33 [00:00<00:00, 81.34it/s] \n",
      "Team [63/206], NOC: UZB, Year: 2024, Usable:5 : 100%|██████████| 33/33 [00:00<00:00, 109.26it/s]\n",
      "Team [64/206], NOC: KGZ, Year: 2024, Usable:5 : 100%|██████████| 33/33 [00:00<00:00, 189.70it/s]\n",
      "Team [65/206], NOC: TJK, Year: 2024, Usable:5 : 100%|██████████| 33/33 [00:00<00:00, 214.41it/s]\n",
      "Team [66/206], NOC: JPN, Year: 2024, Usable:14 : 100%|██████████| 33/33 [00:03<00:00,  8.97it/s]\n",
      "Team [67/206], NOC: CGO, Year: 2024, Usable:9 : 100%|██████████| 33/33 [00:00<00:00, 142.27it/s]\n",
      "Team [68/206], NOC: SUI, Year: 2024, Usable:14 : 100%|██████████| 33/33 [00:01<00:00, 27.45it/s] \n",
      "Team [69/206], NOC: BRA, Year: 2024, Usable:14 : 100%|██████████| 33/33 [00:02<00:00, 15.97it/s] \n",
      "Team [70/206], NOC: MON, Year: 2024, Usable:13 : 100%|██████████| 33/33 [00:00<00:00, 98.58it/s] \n",
      "Team [71/206], NOC: ISR, Year: 2024, Usable:14 : 100%|██████████| 33/33 [00:00<00:00, 48.62it/s] \n",
      "Team [72/206], NOC: URU, Year: 2024, Usable:14 : 100%|██████████| 33/33 [00:00<00:00, 76.21it/s] \n",
      "Team [73/206], NOC: SWE, Year: 2024, Usable:14 : 100%|██████████| 33/33 [00:01<00:00, 20.78it/s] \n",
      "Team [74/206], NOC: SRI, Year: 2024, Usable:13 : 100%|██████████| 33/33 [00:00<00:00, 86.48it/s] \n",
      "Team [75/206], NOC: ARM, Year: 2024, Usable:5 : 100%|██████████| 33/33 [00:00<00:00, 168.70it/s]\n",
      "Team [76/206], NOC: CIV, Year: 2024, Usable:11 : 100%|██████████| 33/33 [00:00<00:00, 103.43it/s]\n",
      "Team [77/206], NOC: KEN, Year: 2024, Usable:12 : 100%|██████████| 33/33 [00:00<00:00, 50.10it/s] \n",
      "Team [78/206], NOC: BEN, Year: 2024, Usable:8 : 100%|██████████| 33/33 [00:00<00:00, 163.16it/s]\n",
      "Team [79/206], NOC: GBR, Year: 2024, Usable:14 : 100%|██████████| 33/33 [00:03<00:00,  8.59it/s] \n",
      "Team [80/206], NOC: GHA, Year: 2024, Usable:12 : 100%|██████████| 33/33 [00:00<00:00, 84.69it/s] \n",
      "Team [81/206], NOC: SOM, Year: 2024, Usable:7 : 100%|██████████| 33/33 [00:00<00:00, 212.78it/s]\n",
      "Team [82/206], NOC: NIG, Year: 2024, Usable:10 : 100%|██████████| 33/33 [00:00<00:00, 109.57it/s]\n",
      "Team [83/206], NOC: MLI, Year: 2024, Usable:10 : 100%|██████████| 33/33 [00:00<00:00, 129.58it/s]\n",
      "Team [84/206], NOC: AFG, Year: 2024, Usable:10 : 100%|██████████| 33/33 [00:00<00:00, 118.28it/s]\n",
      "Team [85/206], NOC: POL, Year: 2024, Usable:14 : 100%|██████████| 33/33 [00:02<00:00, 16.21it/s]\n",
      "Team [86/206], NOC: CRC, Year: 2024, Usable:11 : 100%|██████████| 33/33 [00:00<00:00, 107.94it/s]\n",
      "Team [87/206], NOC: PAN, Year: 2024, Usable:13 : 100%|██████████| 33/33 [00:00<00:00, 99.35it/s] \n",
      "Team [88/206], NOC: GEO, Year: 2024, Usable:5 : 100%|██████████| 33/33 [00:00<00:00, 160.04it/s]\n",
      "Team [89/206], NOC: SLO, Year: 2024, Usable:6 : 100%|██████████| 33/33 [00:00<00:00, 91.66it/s] \n",
      "Team [90/206], NOC: GUY, Year: 2024, Usable:13 : 100%|██████████| 33/33 [00:00<00:00, 106.08it/s]\n",
      "Team [91/206], NOC: NZL, Year: 2024, Usable:14 : 100%|██████████| 33/33 [00:01<00:00, 26.59it/s] \n",
      "Team [92/206], NOC: POR, Year: 2024, Usable:14 : 100%|██████████| 33/33 [00:00<00:00, 38.92it/s] \n",
      "Team [93/206], NOC: PAR, Year: 2024, Usable:10 : 100%|██████████| 33/33 [00:00<00:00, 111.41it/s]\n",
      "Team [94/206], NOC: ANG, Year: 2024, Usable:7 : 100%|██████████| 33/33 [00:00<00:00, 138.71it/s]\n",
      "Team [95/206], NOC: VEN, Year: 2024, Usable:14 : 100%|██████████| 33/33 [00:00<00:00, 53.54it/s] \n",
      "Team [96/206], NOC: COL, Year: 2024, Usable:13 : 100%|██████████| 33/33 [00:00<00:00, 43.68it/s] \n",
      "Team [97/206], NOC: BAN, Year: 2024, Usable:7 : 100%|██████████| 33/33 [00:00<00:00, 175.05it/s]\n",
      "Team [98/206], NOC: PER, Year: 2024, Usable:13 : 100%|██████████| 33/33 [00:00<00:00, 78.63it/s] \n",
      "Team [99/206], NOC: ESA, Year: 2024, Usable:9 : 100%|██████████| 33/33 [00:00<00:00, 130.58it/s]\n",
      "Team [100/206], NOC: PUR, Year: 2024, Usable:14 : 100%|██████████| 33/33 [00:00<00:00, 54.08it/s] \n",
      "Team [101/206], NOC: UGA, Year: 2024, Usable:12 : 100%|██████████| 33/33 [00:00<00:00, 87.78it/s] \n",
      "Team [102/206], NOC: HON, Year: 2024, Usable:9 : 100%|██████████| 33/33 [00:00<00:00, 116.24it/s]\n",
      "Team [103/206], NOC: ECU, Year: 2024, Usable:10 : 100%|██████████| 33/33 [00:00<00:00, 76.76it/s] \n",
      "Team [104/206], NOC: TKM, Year: 2024, Usable:5 : 100%|██████████| 33/33 [00:00<00:00, 233.84it/s]\n",
      "Team [105/206], NOC: MRI, Year: 2024, Usable:7 : 100%|██████████| 33/33 [00:00<00:00, 162.31it/s]\n",
      "Team [106/206], NOC: SEY, Year: 2024, Usable:6 : 100%|██████████| 33/33 [00:00<00:00, 198.64it/s]\n",
      "Team [107/206], NOC: LUX, Year: 2024, Usable:14 : 100%|██████████| 33/33 [00:00<00:00, 83.37it/s] \n",
      "Team [108/206], NOC: MTN, Year: 2024, Usable:7 : 100%|██████████| 33/33 [00:00<00:00, 201.76it/s]\n",
      "Team [109/206], NOC: SKN, Year: 2024, Usable:5 : 100%|██████████| 33/33 [00:00<00:00, 267.05it/s]\n",
      "Team [110/206], NOC: TTO, Year: 2024, Usable:13 : 100%|██████████| 33/33 [00:00<00:00, 80.28it/s] \n",
      "Team [111/206], NOC: DOM, Year: 2024, Usable:11 : 100%|██████████| 33/33 [00:00<00:00, 87.46it/s] \n",
      "Team [112/206], NOC: VIN, Year: 2024, Usable:13 : 100%|██████████| 33/33 [00:00<00:00, 105.22it/s]\n",
      "Team [113/206], NOC: JAM, Year: 2024, Usable:13 : 100%|██████████| 33/33 [00:00<00:00, 54.61it/s] \n",
      "Team [114/206], NOC: LBR, Year: 2024, Usable:10 : 100%|██████████| 33/33 [00:00<00:00, 133.75it/s]\n",
      "Team [115/206], NOC: SUR, Year: 2024, Usable:10 : 100%|██████████| 33/33 [00:00<00:00, 136.37it/s]\n",
      "Team [116/206], NOC: NEP, Year: 2024, Usable:10 : 100%|██████████| 33/33 [00:00<00:00, 126.30it/s]\n",
      "Team [117/206], NOC: MGL, Year: 2024, Usable:11 : 100%|██████████| 33/33 [00:00<00:00, 74.11it/s] \n",
      "Team [118/206], NOC: AUT, Year: 2024, Usable:14 : 100%|██████████| 33/33 [00:00<00:00, 34.85it/s] \n",
      "Team [119/206], NOC: PLW, Year: 2024, Usable:4 : 100%|██████████| 33/33 [00:00<00:00, 312.95it/s]\n",
      "Team [120/206], NOC: LTU, Year: 2024, Usable:6 : 100%|██████████| 33/33 [00:00<00:00, 117.84it/s]\n",
      "Team [121/206], NOC: TOG, Year: 2024, Usable:8 : 100%|██████████| 33/33 [00:00<00:00, 170.77it/s]\n",
      "Team [122/206], NOC: NAM, Year: 2024, Usable:6 : 100%|██████████| 33/33 [00:00<00:00, 203.25it/s]\n",
      "Team [123/206], NOC: UKR, Year: 2024, Usable:5 : 100%|██████████| 33/33 [00:00<00:00, 48.04it/s] \n",
      "Team [124/206], NOC: ISL, Year: 2024, Usable:14 : 100%|██████████| 33/33 [00:00<00:00, 51.46it/s] \n",
      "Team [125/206], NOC: ASA, Year: 2024, Usable:7 : 100%|██████████| 33/33 [00:00<00:00, 191.53it/s]\n",
      "Team [126/206], NOC: SAM, Year: 2024, Usable:7 : 100%|██████████| 33/33 [00:00<00:00, 159.38it/s]\n",
      "Team [127/206], NOC: RWA, Year: 2024, Usable:7 : 100%|██████████| 33/33 [00:00<00:00, 184.31it/s]\n",
      "Team [128/206], NOC: CRO, Year: 2024, Usable:6 : 100%|██████████| 33/33 [00:00<00:00, 84.78it/s] \n",
      "Team [129/206], NOC: DMA, Year: 2024, Usable:5 : 100%|██████████| 33/33 [00:00<00:00, 282.95it/s]\n",
      "Team [130/206], NOC: HAI, Year: 2024, Usable:10 : 100%|██████████| 33/33 [00:00<00:00, 124.91it/s]\n",
      "Team [131/206], NOC: MLT, Year: 2024, Usable:10 : 100%|██████████| 33/33 [00:00<00:00, 126.61it/s]\n",
      "Team [132/206], NOC: CYP, Year: 2024, Usable:7 : 100%|██████████| 33/33 [00:00<00:00, 142.83it/s]\n",
      "Team [133/206], NOC: GUI, Year: 2024, Usable:8 : 100%|██████████| 33/33 [00:00<00:00, 157.05it/s]\n",
      "Team [134/206], NOC: BIZ, Year: 2024, Usable:10 : 100%|██████████| 33/33 [00:00<00:00, 141.28it/s]\n",
      "Team [135/206], NOC: YEM, Year: 2024, Usable:7 : 100%|██████████| 33/33 [00:00<00:00, 194.80it/s]\n",
      "Team [136/206], NOC: THA, Year: 2024, Usable:14 : 100%|██████████| 33/33 [00:00<00:00, 52.42it/s] \n",
      "Team [137/206], NOC: BER, Year: 2024, Usable:14 : 100%|██████████| 33/33 [00:00<00:00, 88.07it/s] \n",
      "Team [138/206], NOC: SLE, Year: 2024, Usable:8 : 100%|██████████| 33/33 [00:00<00:00, 165.30it/s]\n",
      "Team [139/206], NOC: PNG, Year: 2024, Usable:8 : 100%|██████████| 33/33 [00:00<00:00, 161.81it/s]\n",
      "Team [140/206], NOC: OMA, Year: 2024, Usable:7 : 100%|██████████| 33/33 [00:00<00:00, 199.73it/s]\n",
      "Team [141/206], NOC: FIJ, Year: 2024, Usable:12 : 100%|██████████| 33/33 [00:00<00:00, 76.84it/s] \n",
      "Team [142/206], NOC: VAN, Year: 2024, Usable:7 : 100%|██████████| 33/33 [00:00<00:00, 196.23it/s]\n",
      "Team [143/206], NOC: MDA, Year: 2024, Usable:5 : 100%|██████████| 33/33 [00:00<00:00, 189.33it/s]\n",
      "Team [144/206], NOC: BAH, Year: 2024, Usable:14 : 100%|██████████| 33/33 [00:00<00:00, 74.90it/s] \n",
      "Team [145/206], NOC: GUA, Year: 2024, Usable:11 : 100%|██████████| 33/33 [00:00<00:00, 92.73it/s] \n",
      "Team [146/206], NOC: LAT, Year: 2024, Usable:6 : 100%|██████████| 33/33 [00:00<00:00, 137.34it/s]\n",
      "Team [147/206], NOC: SRB, Year: 2024, Usable:2 : 100%|██████████| 33/33 [00:00<00:00, 290.78it/s]\n",
      "Team [148/206], NOC: IVB, Year: 2024, Usable:7 : 100%|██████████| 33/33 [00:00<00:00, 205.32it/s]\n",
      "Team [149/206], NOC: MOZ, Year: 2024, Usable:7 : 100%|██████████| 33/33 [00:00<00:00, 187.54it/s]\n",
      "Team [150/206], NOC: ISV, Year: 2024, Usable:10 : 100%|██████████| 33/33 [00:00<00:00, 119.28it/s]\n",
      "Team [151/206], NOC: CAF, Year: 2024, Usable:8 : 100%|██████████| 33/33 [00:00<00:00, 172.88it/s]\n",
      "Team [152/206], NOC: MAD, Year: 2024, Usable:9 : 100%|██████████| 33/33 [00:00<00:00, 140.22it/s]\n",
      "Team [153/206], NOC: BIH, Year: 2024, Usable:6 : 100%|██████████| 33/33 [00:00<00:00, 209.98it/s]\n",
      "Team [154/206], NOC: GUM, Year: 2024, Usable:7 : 100%|██████████| 33/33 [00:00<00:00, 190.30it/s]\n",
      "Team [155/206], NOC: CAY, Year: 2024, Usable:8 : 100%|██████████| 33/33 [00:00<00:00, 171.67it/s]\n",
      "Team [156/206], NOC: SVK, Year: 2024, Usable:5 : 100%|██████████| 33/33 [00:00<00:00, 158.27it/s]\n",
      "Team [157/206], NOC: BAR, Year: 2024, Usable:10 : 100%|██████████| 33/33 [00:00<00:00, 120.54it/s]\n",
      "Team [158/206], NOC: GBS, Year: 2024, Usable:5 : 100%|██████████| 33/33 [00:00<00:00, 270.84it/s]\n",
      "Team [159/206], NOC: TLS, Year: 2024, Usable:3 : 100%|██████████| 33/33 [00:00<00:00, 455.91it/s]\n",
      "Team [160/206], NOC: COD, Year: 2024, Usable:8 : 100%|██████████| 33/33 [00:00<00:00, 172.17it/s]\n",
      "Team [161/206], NOC: GAB, Year: 2024, Usable:8 : 100%|██████████| 33/33 [00:00<00:00, 163.17it/s]\n",
      "Team [162/206], NOC: SMR, Year: 2024, Usable:11 : 100%|██████████| 33/33 [00:00<00:00, 118.83it/s]\n",
      "Team [163/206], NOC: LAO, Year: 2024, Usable:7 : 100%|██████████| 33/33 [00:00<00:00, 196.88it/s]\n",
      "Team [164/206], NOC: BOT, Year: 2024, Usable:7 : 100%|██████████| 33/33 [00:00<00:00, 173.77it/s]\n",
      "100%|██████████| 33/33 [00:00<00:00, 4091.88it/s]\n",
      "Team [166/206], NOC: KOR, Year: 2024, Usable:14 : 100%|██████████| 33/33 [00:01<00:00, 17.81it/s] \n",
      "Team [167/206], NOC: CAM, Year: 2024, Usable:8 : 100%|██████████| 33/33 [00:00<00:00, 165.27it/s]\n",
      "Team [168/206], NOC: PRK, Year: 2024, Usable:7 : 100%|██████████| 33/33 [00:00<00:00, 111.87it/s]\n",
      "Team [169/206], NOC: SOL, Year: 2024, Usable:7 : 100%|██████████| 33/33 [00:00<00:00, 189.08it/s]\n",
      "Team [170/206], NOC: SEN, Year: 2024, Usable:11 : 100%|██████████| 33/33 [00:00<00:00, 92.61it/s] \n",
      "Team [171/206], NOC: CPV, Year: 2024, Usable:5 : 100%|██████████| 33/33 [00:00<00:00, 256.52it/s]\n",
      "Team [172/206], NOC: CZE, Year: 2024, Usable:5 : 100%|██████████| 33/33 [00:00<00:00, 71.72it/s] \n",
      "Team [173/206], NOC: GEQ, Year: 2024, Usable:7 : 100%|██████████| 33/33 [00:00<00:00, 202.09it/s]\n",
      "Team [174/206], NOC: BOL, Year: 2024, Usable:11 : 100%|██████████| 33/33 [00:00<00:00, 115.87it/s]\n",
      "Team [175/206], NOC: ANT, Year: 2024, Usable:8 : 100%|██████████| 33/33 [00:00<00:00, 164.75it/s]\n",
      "Team [176/206], NOC: AND, Year: 2024, Usable:8 : 100%|██████████| 33/33 [00:00<00:00, 169.56it/s]\n",
      "Team [177/206], NOC: ZIM, Year: 2024, Usable:9 : 100%|██████████| 33/33 [00:00<00:00, 124.74it/s]\n",
      "Team [178/206], NOC: GRN, Year: 2024, Usable:7 : 100%|██████████| 33/33 [00:00<00:00, 183.96it/s]\n",
      "Team [179/206], NOC: HKG, Year: 2024, Usable:14 : 100%|██████████| 33/33 [00:00<00:00, 63.45it/s] \n",
      "Team [180/206], NOC: LCA, Year: 2024, Usable:5 : 100%|██████████| 33/33 [00:00<00:00, 227.62it/s]\n",
      "Team [181/206], NOC: FSM, Year: 2024, Usable:4 : 100%|██████████| 33/33 [00:00<00:00, 323.14it/s]\n",
      "Team [182/206], NOC: MYA, Year: 2024, Usable:13 : 100%|██████████| 33/33 [00:00<00:00, 102.14it/s]\n",
      "Team [183/206], NOC: MAW, Year: 2024, Usable:8 : 100%|██████████| 33/33 [00:00<00:00, 165.01it/s]\n",
      "Team [184/206], NOC: ZAM, Year: 2024, Usable:10 : 100%|██████████| 33/33 [00:00<00:00, 110.04it/s]\n",
      "Team [185/206], NOC: TPE, Year: 2024, Usable:12 : 100%|██████████| 33/33 [00:00<00:00, 56.93it/s] \n",
      "Team [186/206], NOC: STP, Year: 2024, Usable:5 : 100%|██████████| 33/33 [00:00<00:00, 282.11it/s]\n",
      "Team [187/206], NOC: MKD, Year: 2024, Usable:5 : 100%|██████████| 33/33 [00:00<00:00, 249.74it/s]\n",
      "Team [188/206], NOC: LIE, Year: 2024, Usable:13 : 100%|██████████| 33/33 [00:00<00:00, 101.44it/s]\n",
      "Team [189/206], NOC: MNE, Year: 2024, Usable:2 : 100%|██████████| 33/33 [00:00<00:00, 402.87it/s]\n",
      "Team [190/206], NOC: GAM, Year: 2024, Usable:7 : 100%|██████████| 33/33 [00:00<00:00, 194.42it/s]\n",
      "Team [191/206], NOC: COK, Year: 2024, Usable:7 : 100%|██████████| 33/33 [00:00<00:00, 192.70it/s]\n",
      "Team [192/206], NOC: ALB, Year: 2024, Usable:7 : 100%|██████████| 33/33 [00:00<00:00, 176.79it/s]\n",
      "Team [193/206], NOC: SWZ, Year: 2024, Usable:8 : 100%|██████████| 33/33 [00:00<00:00, 174.46it/s]\n",
      "Team [194/206], NOC: BUR, Year: 2024, Usable:8 : 100%|██████████| 33/33 [00:00<00:00, 165.10it/s]\n",
      "Team [195/206], NOC: BDI, Year: 2024, Usable:5 : 100%|██████████| 33/33 [00:00<00:00, 258.87it/s]\n",
      "Team [196/206], NOC: ARU, Year: 2024, Usable:7 : 100%|██████████| 33/33 [00:00<00:00, 196.61it/s]\n",
      "Team [197/206], NOC: NRU, Year: 2024, Usable:5 : 100%|██████████| 33/33 [00:00<00:00, 291.67it/s]\n",
      "Team [198/206], NOC: VIE, Year: 2024, Usable:7 : 100%|██████████| 33/33 [00:00<00:00, 160.60it/s]\n",
      "Team [199/206], NOC: BHU, Year: 2024, Usable:7 : 100%|██████████| 33/33 [00:00<00:00, 207.35it/s]\n",
      "Team [200/206], NOC: MHL, Year: 2024, Usable:2 : 100%|██████████| 33/33 [00:00<00:00, 654.39it/s]\n",
      "Team [201/206], NOC: KIR, Year: 2024, Usable:3 : 100%|██████████| 33/33 [00:00<00:00, 452.27it/s]\n",
      "Team [202/206], NOC: TUV, Year: 2024, Usable:2 : 100%|██████████| 33/33 [00:00<00:00, 696.30it/s]\n",
      "Team [203/206], NOC: TGA, Year: 2024, Usable:7 : 100%|██████████| 33/33 [00:00<00:00, 197.07it/s]\n",
      "100%|██████████| 33/33 [00:00<00:00, 4698.14it/s]\n",
      "100%|██████████| 33/33 [00:00<00:00, 4722.51it/s]\n",
      "Team [206/206], NOC: LES, Year: 2024, Usable:8 : 100%|██████████| 33/33 [00:00<00:00, 173.83it/s]\n"
     ]
    }
   ],
   "execution_count": 220
  },
  {
   "metadata": {},
   "cell_type": "markdown",
   "source": "# Train dataset from all team",
   "id": "f1e7cd23590966aa"
  },
  {
   "metadata": {
    "jupyter": {
     "is_executing": true
    },
    "ExecuteTime": {
     "start_time": "2025-01-26T17:01:02.813751Z"
    }
   },
   "cell_type": "code",
   "source": [
    "print(\"Make sum dataset (every country in one dataset)\")\n",
    "sum_dataset_df = pd.DataFrame()\n",
    "for i in range(team_sum):\n",
    "    noc = team_df.iloc[i][\"NOC\"]\n",
    "    df = make_dataset(noc, i+1, team_sum)\n",
    "    if df.shape[0] == 0:\n",
    "        team_not_save.append(noc)\n",
    "        continue\n",
    "    sum_dataset_df = pd.concat([sum_dataset_df, df], ignore_index=True)\n",
    "sum_dataset_df.to_csv(\"data/dataset/train/sum_dataset.csv\", index=False)"
   ],
   "id": "8ea970396f5b2b4e",
   "outputs": [
    {
     "name": "stdout",
     "output_type": "stream",
     "text": [
      "Make sum dataset (every country in one dataset)\n"
     ]
    },
    {
     "name": "stderr",
     "output_type": "stream",
     "text": [
      "Team [1/206], NOC: CHN, Year: 2024, Usable:8 : 100%|██████████| 33/33 [00:02<00:00, 16.24it/s] \n",
      "Team [2/206], NOC: DEN, Year: 2024, Usable:14 : 100%|██████████| 33/33 [00:01<00:00, 32.70it/s] \n",
      "Team [3/206], NOC: NED, Year: 2024, Usable:14 : 100%|██████████| 33/33 [00:01<00:00, 19.61it/s] \n",
      "Team [4/206], NOC: FIN, Year: 2024, Usable:14 : 100%|██████████| 33/33 [00:00<00:00, 35.09it/s] \n",
      "Team [5/206], NOC: NOR, Year: 2024, Usable:14 : 100%|██████████| 33/33 [00:01<00:00, 32.20it/s] \n",
      "Team [6/206], NOC: ROU, Year: 2024, Usable:14 : 100%|██████████| 33/33 [00:01<00:00, 24.61it/s] \n",
      "Team [7/206], NOC: EST, Year: 2024, Usable:6 : 100%|██████████| 33/33 [00:00<00:00, 129.81it/s]\n",
      "  0%|          | 0/33 [00:00<?, ?it/s]"
     ]
    }
   ],
   "execution_count": null
  },
  {
   "metadata": {},
   "cell_type": "markdown",
   "source": "# Train classify dataset for question 2",
   "id": "7e470034dacf923e"
  },
  {
   "metadata": {
    "ExecuteTime": {
     "end_time": "2025-01-26T16:36:25.050970Z",
     "start_time": "2025-01-26T16:36:25.006814Z"
    }
   },
   "cell_type": "code",
   "source": [
    "classify_df = sum_dataset_df.copy()\n",
    "classify_df = classify_df.drop([\"Gold_rate\", \"Silver_rate\", \"Bronze_rate\"], axis=1)\n",
    "classify_df[\"Total_rate\"] = classify_df[\"Total_rate\"].apply(lambda x: 1 if x * number_each_medal * 3 >= 1.0 else 0)\n",
    "classify_df.to_csv(\"data/dataset/train/classify_dataset.csv\", index=False)"
   ],
   "id": "e921591b6597c231",
   "outputs": [],
   "execution_count": 215
  },
  {
   "metadata": {},
   "cell_type": "markdown",
   "source": "# Predict dataset 2028",
   "id": "4efd6df949c7ce05"
  },
  {
   "metadata": {
    "ExecuteTime": {
     "end_time": "2025-01-26T16:03:05.635858Z",
     "start_time": "2025-01-26T16:02:30.147004Z"
    }
   },
   "cell_type": "code",
   "source": [
    "print(\"Make predict dataset for each team\")\n",
    "for i in trange(team_sum):\n",
    "    noc = team_df.iloc[i][\"NOC\"]\n",
    "    df = make_dataset(noc, i+1, team_sum, predict_data_2028=True)\n",
    "    if df.shape[0] == 0:\n",
    "        team_not_save.append(noc)\n",
    "        continue\n",
    "    df.to_csv(\"data/dataset/predict/\" + noc + \".csv\", index=False)"
   ],
   "id": "c174933135d350f0",
   "outputs": [
    {
     "name": "stdout",
     "output_type": "stream",
     "text": [
      "Make predict dataset for each team\n"
     ]
    },
    {
     "name": "stderr",
     "output_type": "stream",
     "text": [
      "100%|██████████| 206/206 [00:35<00:00,  5.81it/s]\n"
     ]
    }
   ],
   "execution_count": 208
  },
  {
   "metadata": {},
   "cell_type": "markdown",
   "source": "# Find what teams never get the medal",
   "id": "d7ed7c7d1362061d"
  },
  {
   "metadata": {
    "ExecuteTime": {
     "end_time": "2025-01-26T16:03:05.759094Z",
     "start_time": "2025-01-26T16:03:05.646240Z"
    }
   },
   "cell_type": "code",
   "source": [
    "team_never_get_medal = []\n",
    "for each_team in team_df[\"NOC\"]:\n",
    "    team_record = data_medal_counts[data_medal_counts[\"NOC\"] == each_team]\n",
    "    if team_record.shape[0] == 0:\n",
    "        team_never_get_medal.append(each_team)\n",
    "tmp_dict = {\"NOC\": team_never_get_medal}\n",
    "pd.DataFrame(tmp_dict).to_csv(\"data/team_never_get_medal.csv\", index=False)"
   ],
   "id": "1a6a548ba366a06c",
   "outputs": [],
   "execution_count": 209
  },
  {
   "metadata": {},
   "cell_type": "code",
   "outputs": [],
   "execution_count": null,
   "source": "",
   "id": "e2ede4b53b5a9c74"
  },
  {
   "metadata": {},
   "cell_type": "code",
   "outputs": [],
   "execution_count": null,
   "source": "",
   "id": "ff3ce9679b45181e"
  }
 ],
 "metadata": {
  "kernelspec": {
   "display_name": "Python 3",
   "language": "python",
   "name": "python3"
  },
  "language_info": {
   "codemirror_mode": {
    "name": "ipython",
    "version": 2
   },
   "file_extension": ".py",
   "mimetype": "text/x-python",
   "name": "python",
   "nbconvert_exporter": "python",
   "pygments_lexer": "ipython2",
   "version": "2.7.6"
  }
 },
 "nbformat": 4,
 "nbformat_minor": 5
}
