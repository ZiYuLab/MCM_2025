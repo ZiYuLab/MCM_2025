{
 "cells": [
  {
   "cell_type": "code",
   "execution_count": 1,
   "metadata": {},
   "outputs": [],
   "source": [
    "from sklearn.linear_model import LinearRegression\n",
    "from sklearn.metrics import mean_squared_error, r2_score\n",
    "from sklearn.ensemble import RandomForestRegressor\n",
    "import pandas as pd\n",
    "import numpy as np"
   ]
  },
  {
   "cell_type": "code",
   "execution_count": 2,
   "metadata": {},
   "outputs": [],
   "source": [
    "def train(data):\n",
    "    # model = LinearRegression(fit_intercept=True)\n",
    "    model = RandomForestRegressor(n_estimators=10)\n",
    "    X = data.drop([\"NOC\", \"Year\", \"Medal_score\"], axis=1)\n",
    "    y = data[\"Medal_score\"]\n",
    "    model.fit(X, y)\n",
    "    y_pred = model.predict(X)\n",
    "    return model, model.feature_importances_, r2_score(y, y_pred)"
   ]
  },
  {
   "cell_type": "code",
   "execution_count": 3,
   "metadata": {},
   "outputs": [
    {
     "name": "stdout",
     "output_type": "stream",
     "text": [
      "0_Bob_Bowman [0.17587346 0.53780783 0.28631872] 0.8485554752563316\n",
      "1_Zhou_Jihong [0.19411904 0.46108126 0.34479971] 0.8701612903225807\n",
      "2_Lang_Ping [0.         0.70183824 0.29816176] 0.8573529411764705\n",
      "3_Lang_Ping [0.         0.28705357 0.71294643] 0.8488095238095239\n",
      "4_Lang_Ping [0.00496032 0.70161137 0.29342831] 0.5922794117647059\n",
      "5_Daniel_Morelon [0. 0. 0.] 1.0\n",
      "6_Daniel_Morelon [0. 0. 0.] 1.0\n",
      "7_Park_Joo-bong [0.05716063 0.40882794 0.53401143] 0.3660383093344878\n",
      "8_Uwe_Schulten-Baumer [0.         0.56636741 0.43363259] 0.6809615384615382\n",
      "9_Shane_McLeod [0. 0. 0.] 1.0\n",
      "10_Steve_Fraser [0.19481583 0.366243   0.43894117] 0.42246279916079565\n",
      "11_Lance_Watson [0.       0.617151 0.382849] 0.4407919034090908\n"
     ]
    }
   ],
   "source": [
    "\n",
    "coachs_list = np.loadtxt(\"data/dataset/coach/coach_name_list.txt\", dtype=str).tolist()\n",
    "for each_coach in coachs_list:\n",
    "    data = pd.read_csv(\"data/dataset/coach/\" + each_coach + \".csv\")\n",
    "    model, coef, mse = train(data)\n",
    "    print(each_coach, coef, mse)\n"
   ]
  },
  {
   "cell_type": "code",
   "execution_count": null,
   "metadata": {},
   "outputs": [],
   "source": []
  }
 ],
 "metadata": {
  "kernelspec": {
   "display_name": "base",
   "language": "python",
   "name": "python3"
  },
  "language_info": {
   "codemirror_mode": {
    "name": "ipython",
    "version": 3
   },
   "file_extension": ".py",
   "mimetype": "text/x-python",
   "name": "python",
   "nbconvert_exporter": "python",
   "pygments_lexer": "ipython3",
   "version": "3.12.7"
  }
 },
 "nbformat": 4,
 "nbformat_minor": 2
}
